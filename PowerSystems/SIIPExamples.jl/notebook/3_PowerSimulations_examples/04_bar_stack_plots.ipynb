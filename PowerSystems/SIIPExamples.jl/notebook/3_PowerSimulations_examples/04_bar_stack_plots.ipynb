{
 "cells": [
  {
   "cell_type": "markdown",
   "source": [
    "# Bar and stack plots with [PowerGraphics.jl](github.com/nrel-siip/PowerGraphics.jl)\n",
    "PowerGraphics also provides some basic specifications for plotting `SimulationResults`.\n",
    "This example demonstrates some simple plotting capabilities using different Plots.julia\n",
    "backends.\n",
    "\n",
    "The plotting capabilities use the Julia Plots package which can generate plots using\n",
    "several different graphics packages. We'll use GR.jl and PlotlyJS.jl.\n",
    "\n",
    "## Dependencies"
   ],
   "metadata": {}
  },
  {
   "outputs": [],
   "cell_type": "code",
   "source": [
    "using SIIPExamples #for path locations\n",
    "pkgpath = dirname(dirname(pathof(SIIPExamples)))\n",
    "using PowerSystems #to load results\n",
    "using PowerSimulations #to load results\n",
    "using PowerGraphics"
   ],
   "metadata": {},
   "execution_count": null
  },
  {
   "cell_type": "markdown",
   "source": [
    "### Results file\n",
    "If you have already run some of the other examples, you should have generated some results\n",
    "(If you haven't run some of the other simulaitons, you can run\n",
    "`include(joinpath(pkgpath, \"test\", \"3_PowerSimulations_examples\", \"2_sequential_simulations.jl\"))`).\n",
    "You can load the results into memory with:"
   ],
   "metadata": {}
  },
  {
   "outputs": [],
   "cell_type": "code",
   "source": [
    "simulation_folder = joinpath(pkgpath, \"RTS-GMLC-master\", \"rts-test\")\n",
    "simulation_folder =\n",
    "    joinpath(simulation_folder, \"$(maximum(parse.(Int64,readdir(simulation_folder))))\")\n",
    "res = load_simulation_results(simulation_folder, \"UC\")"
   ],
   "metadata": {},
   "execution_count": null
  },
  {
   "cell_type": "markdown",
   "source": [
    "## Plots\n",
    "By default, PowerGraphics uses the GR graphics package as the backend for Plots.jl to\n",
    "generate figures. This creates static plots and should execute without any extra steps.\n",
    "For example, we can create a stacked bar_plot:"
   ],
   "metadata": {}
  },
  {
   "outputs": [],
   "cell_type": "code",
   "source": [
    "gr() # loads the GR backend\n",
    "bar_plot(res)"
   ],
   "metadata": {},
   "execution_count": null
  },
  {
   "cell_type": "markdown",
   "source": [
    "However, interactive plotting can generate much more insightful figures, especially when\n",
    "creating somewhat complex stacked figures. So, we can use the PlotlyJS backend for Plots,\n",
    "but it requires that PlotlyJS.jl, and ORCA.jl (if in a notebook, WebIO.jl is required too)\n",
    "are installed in your Project.toml. To startup the PlotlyJS backend, run:"
   ],
   "metadata": {}
  },
  {
   "outputs": [],
   "cell_type": "code",
   "source": [
    "plotlyjs()"
   ],
   "metadata": {},
   "execution_count": null
  },
  {
   "cell_type": "markdown",
   "source": [
    "Now we can create stacked bar plots that can be inspected interactively."
   ],
   "metadata": {}
  },
  {
   "outputs": [],
   "cell_type": "code",
   "source": [
    "bar_plot(res)"
   ],
   "metadata": {},
   "execution_count": null
  },
  {
   "cell_type": "markdown",
   "source": [
    "Similarly, we can create a stack plot for any combination of variable to see the time\n",
    "series values. *Note: the `load = true` kwarg populates a line for the total system load.*"
   ],
   "metadata": {}
  },
  {
   "outputs": [],
   "cell_type": "code",
   "source": [
    "stack_plot(res, [Symbol(\"P__ThermalStandard\"), Symbol(\"P__RenewableDispatch\")], load = true)"
   ],
   "metadata": {},
   "execution_count": null
  },
  {
   "cell_type": "markdown",
   "source": [
    "Or, we can create a series of stack plots for every variable in the dictionary:\n",
    "```julia\n",
    "stack_plot(res)\n",
    "```"
   ],
   "metadata": {}
  },
  {
   "cell_type": "markdown",
   "source": [
    "Generator fuel types are not stored in the model, or the associated results files. So,\n",
    "to make aggregated fuel plots, we need to load the `System` as well. The simulation routine\n",
    "automatically serializes the `System` data into the results directory, so we just need to\n",
    "load it."
   ],
   "metadata": {}
  },
  {
   "outputs": [],
   "cell_type": "code",
   "source": [
    "uc_sys = System(joinpath(\n",
    "    simulation_folder,\n",
    "    \"models_json\",\n",
    "    \"stage_UC_model\",\n",
    "    \"Stage1_sys_data.json\",\n",
    "))"
   ],
   "metadata": {},
   "execution_count": null
  },
  {
   "cell_type": "markdown",
   "source": [
    "Now we can make a set of aggregated plots by fuel type."
   ],
   "metadata": {}
  },
  {
   "outputs": [],
   "cell_type": "code",
   "source": [
    "fuel_plot(res, uc_sys, load = true)"
   ],
   "metadata": {},
   "execution_count": null
  },
  {
   "cell_type": "markdown",
   "source": [
    "---\n",
    "\n",
    "*This notebook was generated using [Literate.jl](https://github.com/fredrikekre/Literate.jl).*"
   ],
   "metadata": {}
  }
 ],
 "nbformat_minor": 3,
 "metadata": {
  "language_info": {
   "file_extension": ".jl",
   "mimetype": "application/julia",
   "name": "julia",
   "version": "1.5.2"
  },
  "kernelspec": {
   "name": "julia-1.5",
   "display_name": "Julia 1.5.2",
   "language": "julia"
  }
 },
 "nbformat": 4
}
