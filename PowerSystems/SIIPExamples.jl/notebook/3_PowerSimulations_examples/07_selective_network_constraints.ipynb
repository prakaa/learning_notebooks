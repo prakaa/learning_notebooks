{
 "cells": [
  {
   "cell_type": "markdown",
   "source": [
    "# Selective flow constraints with [PowerSimulations.jl](https://github.com/NREL/PowerSimulations.jl)"
   ],
   "metadata": {}
  },
  {
   "cell_type": "markdown",
   "source": [
    "**Originally Contributed by**: Clayton Barrows and Sourabh Dalvi"
   ],
   "metadata": {}
  },
  {
   "cell_type": "markdown",
   "source": [
    "## Introduction"
   ],
   "metadata": {}
  },
  {
   "cell_type": "markdown",
   "source": [
    "The [Operations Problems example]](../../notebook/3_PowerSimulations_examples/sequential_simulations.ipynb)\n",
    "shows the basic building blocks of building optimization problems with PowerSimulations.jl.\n",
    "This example shows how to customize the enforcement of branch flow constraints as is common\n",
    "when trying to build large scale simulations."
   ],
   "metadata": {}
  },
  {
   "cell_type": "markdown",
   "source": [
    "## Dependencies"
   ],
   "metadata": {}
  },
  {
   "outputs": [],
   "cell_type": "code",
   "source": [
    "using SIIPExamples"
   ],
   "metadata": {},
   "execution_count": 1
  },
  {
   "cell_type": "markdown",
   "source": [
    "### Modeling Packages"
   ],
   "metadata": {}
  },
  {
   "outputs": [],
   "cell_type": "code",
   "source": [
    "using PowerSystems\n",
    "using PowerSimulations"
   ],
   "metadata": {},
   "execution_count": 2
  },
  {
   "cell_type": "markdown",
   "source": [
    "### Optimization packages\n",
    "For this simple example, we can use the Cbc solver with a relatively relaxed tolerance."
   ],
   "metadata": {}
  },
  {
   "outputs": [
    {
     "output_type": "execute_result",
     "data": {
      "text/plain": "MathOptInterface.OptimizerWithAttributes(Cbc.Optimizer, Pair{MathOptInterface.AbstractOptimizerAttribute,Any}[MathOptInterface.RawParameter(\"logLevel\") => 1, MathOptInterface.RawParameter(\"ratioGap\") => 0.5])"
     },
     "metadata": {},
     "execution_count": 3
    }
   ],
   "cell_type": "code",
   "source": [
    "using Cbc #solver\n",
    "solver = optimizer_with_attributes(Cbc.Optimizer, \"logLevel\" => 1, \"ratioGap\" => 0.5)"
   ],
   "metadata": {},
   "execution_count": 3
  },
  {
   "cell_type": "markdown",
   "source": [
    "### Create a `System` from RTS-GMLC data\n",
    "We can just use the\n",
    "[parsing tabular data example.](../../notebook/2_PowerSystems_examples/parse_tabulardata.jl)"
   ],
   "metadata": {}
  },
  {
   "outputs": [
    {
     "name": "stdout",
     "output_type": "stream",
     "text": [
      "┌ Info: Parsing csv files in Reserves ...\n",
      "└ @ PowerSystems /Users/cbarrows/.julia/packages/PowerSystems/eF3Pv/src/parsers/power_system_table_data.jl:125\n",
      "┌ Info: Parsing csv data in DAY_AHEAD_regional_Flex_Down.csv ...\n",
      "└ @ PowerSystems /Users/cbarrows/.julia/packages/PowerSystems/eF3Pv/src/parsers/power_system_table_data.jl:129\n",
      "┌ Info: Parsing csv data in DAY_AHEAD_regional_Flex_Up.csv ...\n",
      "└ @ PowerSystems /Users/cbarrows/.julia/packages/PowerSystems/eF3Pv/src/parsers/power_system_table_data.jl:129\n",
      "┌ Info: Parsing csv data in DAY_AHEAD_regional_Reg_Down.csv ...\n",
      "└ @ PowerSystems /Users/cbarrows/.julia/packages/PowerSystems/eF3Pv/src/parsers/power_system_table_data.jl:129\n",
      "┌ Info: Parsing csv data in DAY_AHEAD_regional_Reg_Up.csv ...\n",
      "└ @ PowerSystems /Users/cbarrows/.julia/packages/PowerSystems/eF3Pv/src/parsers/power_system_table_data.jl:129\n",
      "┌ Info: Parsing csv data in DAY_AHEAD_regional_Spin_Up_R1.csv ...\n",
      "└ @ PowerSystems /Users/cbarrows/.julia/packages/PowerSystems/eF3Pv/src/parsers/power_system_table_data.jl:129\n",
      "┌ Info: Parsing csv data in DAY_AHEAD_regional_Spin_Up_R2.csv ...\n",
      "└ @ PowerSystems /Users/cbarrows/.julia/packages/PowerSystems/eF3Pv/src/parsers/power_system_table_data.jl:129\n",
      "┌ Info: Parsing csv data in DAY_AHEAD_regional_Spin_Up_R3.csv ...\n",
      "└ @ PowerSystems /Users/cbarrows/.julia/packages/PowerSystems/eF3Pv/src/parsers/power_system_table_data.jl:129\n",
      "┌ Info: Parsing csv data in REAL_TIME_regional_Reg_Down.csv ...\n",
      "└ @ PowerSystems /Users/cbarrows/.julia/packages/PowerSystems/eF3Pv/src/parsers/power_system_table_data.jl:129\n",
      "┌ Info: Parsing csv data in REAL_TIME_regional_Reg_Up.csv ...\n",
      "└ @ PowerSystems /Users/cbarrows/.julia/packages/PowerSystems/eF3Pv/src/parsers/power_system_table_data.jl:129\n",
      "┌ Info: Parsing csv data in REAL_TIME_regional_Spin_Up_R1.csv ...\n",
      "└ @ PowerSystems /Users/cbarrows/.julia/packages/PowerSystems/eF3Pv/src/parsers/power_system_table_data.jl:129\n",
      "┌ Info: Parsing csv data in REAL_TIME_regional_Spin_Up_R2.csv ...\n",
      "└ @ PowerSystems /Users/cbarrows/.julia/packages/PowerSystems/eF3Pv/src/parsers/power_system_table_data.jl:129\n",
      "┌ Info: Parsing csv data in REAL_TIME_regional_Spin_Up_R3.csv ...\n",
      "└ @ PowerSystems /Users/cbarrows/.julia/packages/PowerSystems/eF3Pv/src/parsers/power_system_table_data.jl:129\n",
      "┌ Info: Successfully parsed Reserves\n",
      "└ @ PowerSystems /Users/cbarrows/.julia/packages/PowerSystems/eF3Pv/src/parsers/power_system_table_data.jl:139\n",
      "┌ Info: Parsing csv data in branch.csv ...\n",
      "└ @ PowerSystems /Users/cbarrows/.julia/packages/PowerSystems/eF3Pv/src/parsers/power_system_table_data.jl:143\n",
      "┌ Info: Successfully parsed branch.csv\n",
      "└ @ PowerSystems /Users/cbarrows/.julia/packages/PowerSystems/eF3Pv/src/parsers/power_system_table_data.jl:148\n",
      "┌ Info: Parsing csv data in bus.csv ...\n",
      "└ @ PowerSystems /Users/cbarrows/.julia/packages/PowerSystems/eF3Pv/src/parsers/power_system_table_data.jl:143\n",
      "┌ Info: Successfully parsed bus.csv\n",
      "└ @ PowerSystems /Users/cbarrows/.julia/packages/PowerSystems/eF3Pv/src/parsers/power_system_table_data.jl:148\n",
      "┌ Info: Parsing csv data in dc_branch.csv ...\n",
      "└ @ PowerSystems /Users/cbarrows/.julia/packages/PowerSystems/eF3Pv/src/parsers/power_system_table_data.jl:143\n",
      "┌ Info: Successfully parsed dc_branch.csv\n",
      "└ @ PowerSystems /Users/cbarrows/.julia/packages/PowerSystems/eF3Pv/src/parsers/power_system_table_data.jl:148\n",
      "┌ Info: Parsing csv data in gen.csv ...\n",
      "└ @ PowerSystems /Users/cbarrows/.julia/packages/PowerSystems/eF3Pv/src/parsers/power_system_table_data.jl:143\n",
      "┌ Info: Successfully parsed gen.csv\n",
      "└ @ PowerSystems /Users/cbarrows/.julia/packages/PowerSystems/eF3Pv/src/parsers/power_system_table_data.jl:148\n",
      "┌ Info: Parsing csv data in reserves.csv ...\n",
      "└ @ PowerSystems /Users/cbarrows/.julia/packages/PowerSystems/eF3Pv/src/parsers/power_system_table_data.jl:143\n",
      "┌ Info: Successfully parsed reserves.csv\n",
      "└ @ PowerSystems /Users/cbarrows/.julia/packages/PowerSystems/eF3Pv/src/parsers/power_system_table_data.jl:148\n",
      "┌ Info: Parsing csv data in simulation_objects.csv ...\n",
      "└ @ PowerSystems /Users/cbarrows/.julia/packages/PowerSystems/eF3Pv/src/parsers/power_system_table_data.jl:143\n",
      "┌ Info: Successfully parsed simulation_objects.csv\n",
      "└ @ PowerSystems /Users/cbarrows/.julia/packages/PowerSystems/eF3Pv/src/parsers/power_system_table_data.jl:148\n",
      "┌ Info: Parsing csv data in storage.csv ...\n",
      "└ @ PowerSystems /Users/cbarrows/.julia/packages/PowerSystems/eF3Pv/src/parsers/power_system_table_data.jl:143\n",
      "┌ Info: Successfully parsed storage.csv\n",
      "└ @ PowerSystems /Users/cbarrows/.julia/packages/PowerSystems/eF3Pv/src/parsers/power_system_table_data.jl:148\n",
      "┌ Info: Parsing csv data in timeseries_pointers.csv ...\n",
      "└ @ PowerSystems /Users/cbarrows/.julia/packages/PowerSystems/eF3Pv/src/parsers/power_system_table_data.jl:143\n",
      "┌ Info: Successfully parsed timeseries_pointers.csv\n",
      "└ @ PowerSystems /Users/cbarrows/.julia/packages/PowerSystems/eF3Pv/src/parsers/power_system_table_data.jl:148\n",
      "┌ Info: Unit System changed to DEVICE_BASE\n",
      "└ @ PowerSystems /Users/cbarrows/.julia/packages/PowerSystems/eF3Pv/src/base.jl:288\n",
      "┌ Warning: Missing LOAD data.\n",
      "└ @ PowerSystems /Users/cbarrows/.julia/packages/PowerSystems/eF3Pv/src/parsers/power_system_table_data.jl:212\n",
      "┌ Warning: User-defined column name Startup Ramp Rate MW/min is not in dataframe.\n",
      "└ @ PowerSystems /Users/cbarrows/.julia/packages/PowerSystems/eF3Pv/src/parsers/power_system_table_data.jl:1215\n",
      "┌ Warning: User-defined column name Shutdown Ramp Rate MW/min is not in dataframe.\n",
      "└ @ PowerSystems /Users/cbarrows/.julia/packages/PowerSystems/eF3Pv/src/parsers/power_system_table_data.jl:1215\n",
      "┌ Warning: User-defined column name Status at Start is not in dataframe.\n",
      "└ @ PowerSystems /Users/cbarrows/.julia/packages/PowerSystems/eF3Pv/src/parsers/power_system_table_data.jl:1215\n",
      "┌ Warning: User-defined column name Time at Status is not in dataframe.\n",
      "└ @ PowerSystems /Users/cbarrows/.julia/packages/PowerSystems/eF3Pv/src/parsers/power_system_table_data.jl:1215\n",
      "┌ Warning: User-defined column name Start Cost Cold is not in dataframe.\n",
      "└ @ PowerSystems /Users/cbarrows/.julia/packages/PowerSystems/eF3Pv/src/parsers/power_system_table_data.jl:1215\n",
      "┌ Warning: User-defined column name Start Cost Warm is not in dataframe.\n",
      "└ @ PowerSystems /Users/cbarrows/.julia/packages/PowerSystems/eF3Pv/src/parsers/power_system_table_data.jl:1215\n",
      "┌ Warning: User-defined column name Start Cost Hot is not in dataframe.\n",
      "└ @ PowerSystems /Users/cbarrows/.julia/packages/PowerSystems/eF3Pv/src/parsers/power_system_table_data.jl:1215\n",
      "┌ Warning: User-defined column name Must Run is not in dataframe.\n",
      "└ @ PowerSystems /Users/cbarrows/.julia/packages/PowerSystems/eF3Pv/src/parsers/power_system_table_data.jl:1215\n",
      "┌ Warning: Missing LOAD data.\n",
      "└ @ PowerSystems /Users/cbarrows/.julia/packages/PowerSystems/eF3Pv/src/parsers/power_system_table_data.jl:212\n",
      "┌ Info: Adding contributing generators for Spin_Up_R1 by category\n",
      "└ @ PowerSystems /Users/cbarrows/.julia/packages/PowerSystems/eF3Pv/src/parsers/power_system_table_data.jl:656\n",
      "┌ Warning: User-defined column name Startup Ramp Rate MW/min is not in dataframe.\n",
      "└ @ PowerSystems /Users/cbarrows/.julia/packages/PowerSystems/eF3Pv/src/parsers/power_system_table_data.jl:1215\n",
      "┌ Warning: User-defined column name Shutdown Ramp Rate MW/min is not in dataframe.\n",
      "└ @ PowerSystems /Users/cbarrows/.julia/packages/PowerSystems/eF3Pv/src/parsers/power_system_table_data.jl:1215\n",
      "┌ Warning: User-defined column name Status at Start is not in dataframe.\n",
      "└ @ PowerSystems /Users/cbarrows/.julia/packages/PowerSystems/eF3Pv/src/parsers/power_system_table_data.jl:1215\n",
      "┌ Warning: User-defined column name Time at Status is not in dataframe.\n",
      "└ @ PowerSystems /Users/cbarrows/.julia/packages/PowerSystems/eF3Pv/src/parsers/power_system_table_data.jl:1215\n",
      "┌ Warning: User-defined column name Start Cost Cold is not in dataframe.\n",
      "└ @ PowerSystems /Users/cbarrows/.julia/packages/PowerSystems/eF3Pv/src/parsers/power_system_table_data.jl:1215\n",
      "┌ Warning: User-defined column name Start Cost Warm is not in dataframe.\n",
      "└ @ PowerSystems /Users/cbarrows/.julia/packages/PowerSystems/eF3Pv/src/parsers/power_system_table_data.jl:1215\n",
      "┌ Warning: User-defined column name Start Cost Hot is not in dataframe.\n",
      "└ @ PowerSystems /Users/cbarrows/.julia/packages/PowerSystems/eF3Pv/src/parsers/power_system_table_data.jl:1215\n",
      "┌ Warning: User-defined column name Must Run is not in dataframe.\n",
      "└ @ PowerSystems /Users/cbarrows/.julia/packages/PowerSystems/eF3Pv/src/parsers/power_system_table_data.jl:1215\n",
      "┌ Info: Adding contributing generators for Spin_Up_R2 by category\n",
      "└ @ PowerSystems /Users/cbarrows/.julia/packages/PowerSystems/eF3Pv/src/parsers/power_system_table_data.jl:656\n",
      "┌ Warning: User-defined column name Startup Ramp Rate MW/min is not in dataframe.\n",
      "└ @ PowerSystems /Users/cbarrows/.julia/packages/PowerSystems/eF3Pv/src/parsers/power_system_table_data.jl:1215\n",
      "┌ Warning: User-defined column name Shutdown Ramp Rate MW/min is not in dataframe.\n",
      "└ @ PowerSystems /Users/cbarrows/.julia/packages/PowerSystems/eF3Pv/src/parsers/power_system_table_data.jl:1215\n",
      "┌ Warning: User-defined column name Status at Start is not in dataframe.\n",
      "└ @ PowerSystems /Users/cbarrows/.julia/packages/PowerSystems/eF3Pv/src/parsers/power_system_table_data.jl:1215\n",
      "┌ Warning: User-defined column name Time at Status is not in dataframe.\n",
      "└ @ PowerSystems /Users/cbarrows/.julia/packages/PowerSystems/eF3Pv/src/parsers/power_system_table_data.jl:1215\n",
      "┌ Warning: User-defined column name Start Cost Cold is not in dataframe.\n",
      "└ @ PowerSystems /Users/cbarrows/.julia/packages/PowerSystems/eF3Pv/src/parsers/power_system_table_data.jl:1215\n",
      "┌ Warning: User-defined column name Start Cost Warm is not in dataframe.\n",
      "└ @ PowerSystems /Users/cbarrows/.julia/packages/PowerSystems/eF3Pv/src/parsers/power_system_table_data.jl:1215\n",
      "┌ Warning: User-defined column name Start Cost Hot is not in dataframe.\n",
      "└ @ PowerSystems /Users/cbarrows/.julia/packages/PowerSystems/eF3Pv/src/parsers/power_system_table_data.jl:1215\n",
      "┌ Warning: User-defined column name Must Run is not in dataframe.\n",
      "└ @ PowerSystems /Users/cbarrows/.julia/packages/PowerSystems/eF3Pv/src/parsers/power_system_table_data.jl:1215\n",
      "┌ Info: Adding contributing generators for Spin_Up_R3 by category\n",
      "└ @ PowerSystems /Users/cbarrows/.julia/packages/PowerSystems/eF3Pv/src/parsers/power_system_table_data.jl:656\n",
      "┌ Warning: User-defined column name Startup Ramp Rate MW/min is not in dataframe.\n",
      "└ @ PowerSystems /Users/cbarrows/.julia/packages/PowerSystems/eF3Pv/src/parsers/power_system_table_data.jl:1215\n",
      "┌ Warning: User-defined column name Shutdown Ramp Rate MW/min is not in dataframe.\n",
      "└ @ PowerSystems /Users/cbarrows/.julia/packages/PowerSystems/eF3Pv/src/parsers/power_system_table_data.jl:1215\n",
      "┌ Warning: User-defined column name Status at Start is not in dataframe.\n",
      "└ @ PowerSystems /Users/cbarrows/.julia/packages/PowerSystems/eF3Pv/src/parsers/power_system_table_data.jl:1215\n",
      "┌ Warning: User-defined column name Time at Status is not in dataframe.\n",
      "└ @ PowerSystems /Users/cbarrows/.julia/packages/PowerSystems/eF3Pv/src/parsers/power_system_table_data.jl:1215\n",
      "┌ Warning: User-defined column name Start Cost Cold is not in dataframe.\n",
      "└ @ PowerSystems /Users/cbarrows/.julia/packages/PowerSystems/eF3Pv/src/parsers/power_system_table_data.jl:1215\n",
      "┌ Warning: User-defined column name Start Cost Warm is not in dataframe.\n",
      "└ @ PowerSystems /Users/cbarrows/.julia/packages/PowerSystems/eF3Pv/src/parsers/power_system_table_data.jl:1215\n",
      "┌ Warning: User-defined column name Start Cost Hot is not in dataframe.\n",
      "└ @ PowerSystems /Users/cbarrows/.julia/packages/PowerSystems/eF3Pv/src/parsers/power_system_table_data.jl:1215\n",
      "┌ Warning: User-defined column name Must Run is not in dataframe.\n",
      "└ @ PowerSystems /Users/cbarrows/.julia/packages/PowerSystems/eF3Pv/src/parsers/power_system_table_data.jl:1215\n",
      "┌ Info: Adding contributing generators for Flex_Up by category\n",
      "└ @ PowerSystems /Users/cbarrows/.julia/packages/PowerSystems/eF3Pv/src/parsers/power_system_table_data.jl:656\n",
      "┌ Warning: User-defined column name Startup Ramp Rate MW/min is not in dataframe.\n",
      "└ @ PowerSystems /Users/cbarrows/.julia/packages/PowerSystems/eF3Pv/src/parsers/power_system_table_data.jl:1215\n",
      "┌ Warning: User-defined column name Shutdown Ramp Rate MW/min is not in dataframe.\n",
      "└ @ PowerSystems /Users/cbarrows/.julia/packages/PowerSystems/eF3Pv/src/parsers/power_system_table_data.jl:1215\n",
      "┌ Warning: User-defined column name Status at Start is not in dataframe.\n",
      "└ @ PowerSystems /Users/cbarrows/.julia/packages/PowerSystems/eF3Pv/src/parsers/power_system_table_data.jl:1215\n",
      "┌ Warning: User-defined column name Time at Status is not in dataframe.\n",
      "└ @ PowerSystems /Users/cbarrows/.julia/packages/PowerSystems/eF3Pv/src/parsers/power_system_table_data.jl:1215\n",
      "┌ Warning: User-defined column name Start Cost Cold is not in dataframe.\n",
      "└ @ PowerSystems /Users/cbarrows/.julia/packages/PowerSystems/eF3Pv/src/parsers/power_system_table_data.jl:1215\n",
      "┌ Warning: User-defined column name Start Cost Warm is not in dataframe.\n",
      "└ @ PowerSystems /Users/cbarrows/.julia/packages/PowerSystems/eF3Pv/src/parsers/power_system_table_data.jl:1215\n",
      "┌ Warning: User-defined column name Start Cost Hot is not in dataframe.\n",
      "└ @ PowerSystems /Users/cbarrows/.julia/packages/PowerSystems/eF3Pv/src/parsers/power_system_table_data.jl:1215\n",
      "┌ Warning: User-defined column name Must Run is not in dataframe.\n",
      "└ @ PowerSystems /Users/cbarrows/.julia/packages/PowerSystems/eF3Pv/src/parsers/power_system_table_data.jl:1215\n",
      "┌ Info: Adding contributing generators for Flex_Down by category\n",
      "└ @ PowerSystems /Users/cbarrows/.julia/packages/PowerSystems/eF3Pv/src/parsers/power_system_table_data.jl:656\n",
      "┌ Warning: User-defined column name Startup Ramp Rate MW/min is not in dataframe.\n",
      "└ @ PowerSystems /Users/cbarrows/.julia/packages/PowerSystems/eF3Pv/src/parsers/power_system_table_data.jl:1215\n",
      "┌ Warning: User-defined column name Shutdown Ramp Rate MW/min is not in dataframe.\n",
      "└ @ PowerSystems /Users/cbarrows/.julia/packages/PowerSystems/eF3Pv/src/parsers/power_system_table_data.jl:1215\n",
      "┌ Warning: User-defined column name Status at Start is not in dataframe.\n",
      "└ @ PowerSystems /Users/cbarrows/.julia/packages/PowerSystems/eF3Pv/src/parsers/power_system_table_data.jl:1215\n",
      "┌ Warning: User-defined column name Time at Status is not in dataframe.\n",
      "└ @ PowerSystems /Users/cbarrows/.julia/packages/PowerSystems/eF3Pv/src/parsers/power_system_table_data.jl:1215\n",
      "┌ Warning: User-defined column name Start Cost Cold is not in dataframe.\n",
      "└ @ PowerSystems /Users/cbarrows/.julia/packages/PowerSystems/eF3Pv/src/parsers/power_system_table_data.jl:1215\n",
      "┌ Warning: User-defined column name Start Cost Warm is not in dataframe.\n",
      "└ @ PowerSystems /Users/cbarrows/.julia/packages/PowerSystems/eF3Pv/src/parsers/power_system_table_data.jl:1215\n",
      "┌ Warning: User-defined column name Start Cost Hot is not in dataframe.\n",
      "└ @ PowerSystems /Users/cbarrows/.julia/packages/PowerSystems/eF3Pv/src/parsers/power_system_table_data.jl:1215\n",
      "┌ Warning: User-defined column name Must Run is not in dataframe.\n",
      "└ @ PowerSystems /Users/cbarrows/.julia/packages/PowerSystems/eF3Pv/src/parsers/power_system_table_data.jl:1215\n",
      "┌ Info: Adding contributing generators for Reg_Up by category\n",
      "└ @ PowerSystems /Users/cbarrows/.julia/packages/PowerSystems/eF3Pv/src/parsers/power_system_table_data.jl:656\n",
      "┌ Warning: User-defined column name Startup Ramp Rate MW/min is not in dataframe.\n",
      "└ @ PowerSystems /Users/cbarrows/.julia/packages/PowerSystems/eF3Pv/src/parsers/power_system_table_data.jl:1215\n",
      "┌ Warning: User-defined column name Shutdown Ramp Rate MW/min is not in dataframe.\n",
      "└ @ PowerSystems /Users/cbarrows/.julia/packages/PowerSystems/eF3Pv/src/parsers/power_system_table_data.jl:1215\n",
      "┌ Warning: User-defined column name Status at Start is not in dataframe.\n",
      "└ @ PowerSystems /Users/cbarrows/.julia/packages/PowerSystems/eF3Pv/src/parsers/power_system_table_data.jl:1215\n",
      "┌ Warning: User-defined column name Time at Status is not in dataframe.\n",
      "└ @ PowerSystems /Users/cbarrows/.julia/packages/PowerSystems/eF3Pv/src/parsers/power_system_table_data.jl:1215\n",
      "┌ Warning: User-defined column name Start Cost Cold is not in dataframe.\n",
      "└ @ PowerSystems /Users/cbarrows/.julia/packages/PowerSystems/eF3Pv/src/parsers/power_system_table_data.jl:1215\n",
      "┌ Warning: User-defined column name Start Cost Warm is not in dataframe.\n",
      "└ @ PowerSystems /Users/cbarrows/.julia/packages/PowerSystems/eF3Pv/src/parsers/power_system_table_data.jl:1215\n",
      "┌ Warning: User-defined column name Start Cost Hot is not in dataframe.\n",
      "└ @ PowerSystems /Users/cbarrows/.julia/packages/PowerSystems/eF3Pv/src/parsers/power_system_table_data.jl:1215\n",
      "┌ Warning: User-defined column name Must Run is not in dataframe.\n",
      "└ @ PowerSystems /Users/cbarrows/.julia/packages/PowerSystems/eF3Pv/src/parsers/power_system_table_data.jl:1215\n",
      "┌ Info: Adding contributing generators for Reg_Down by category\n",
      "└ @ PowerSystems /Users/cbarrows/.julia/packages/PowerSystems/eF3Pv/src/parsers/power_system_table_data.jl:656\n",
      "┌ Warning: User-defined column name Startup Ramp Rate MW/min is not in dataframe.\n",
      "└ @ PowerSystems /Users/cbarrows/.julia/packages/PowerSystems/eF3Pv/src/parsers/power_system_table_data.jl:1215\n",
      "┌ Warning: User-defined column name Shutdown Ramp Rate MW/min is not in dataframe.\n",
      "└ @ PowerSystems /Users/cbarrows/.julia/packages/PowerSystems/eF3Pv/src/parsers/power_system_table_data.jl:1215\n",
      "┌ Warning: User-defined column name Status at Start is not in dataframe.\n",
      "└ @ PowerSystems /Users/cbarrows/.julia/packages/PowerSystems/eF3Pv/src/parsers/power_system_table_data.jl:1215\n",
      "┌ Warning: User-defined column name Time at Status is not in dataframe.\n",
      "└ @ PowerSystems /Users/cbarrows/.julia/packages/PowerSystems/eF3Pv/src/parsers/power_system_table_data.jl:1215\n",
      "┌ Warning: User-defined column name Start Cost Cold is not in dataframe.\n",
      "└ @ PowerSystems /Users/cbarrows/.julia/packages/PowerSystems/eF3Pv/src/parsers/power_system_table_data.jl:1215\n",
      "┌ Warning: User-defined column name Start Cost Warm is not in dataframe.\n",
      "└ @ PowerSystems /Users/cbarrows/.julia/packages/PowerSystems/eF3Pv/src/parsers/power_system_table_data.jl:1215\n",
      "┌ Warning: User-defined column name Start Cost Hot is not in dataframe.\n",
      "└ @ PowerSystems /Users/cbarrows/.julia/packages/PowerSystems/eF3Pv/src/parsers/power_system_table_data.jl:1215\n",
      "┌ Warning: User-defined column name Must Run is not in dataframe.\n",
      "└ @ PowerSystems /Users/cbarrows/.julia/packages/PowerSystems/eF3Pv/src/parsers/power_system_table_data.jl:1215\n",
      "┌ Warning: There is only one forecast window. Setting interval = 0 seconds\n",
      "└ @ InfrastructureSystems /Users/cbarrows/.julia/packages/InfrastructureSystems/6GZHV/src/component.jl:629\n"
     ]
    },
    {
     "output_type": "execute_result",
     "data": {
      "text/plain": "System\n======\nSystem Units Base: DEVICE_BASE\nBase Power: 100.0\nBase Frequency: 60.0\n\nComponents\n==========\nNum components: 543\n\n\u001b[1m16×3 DataFrame\u001b[0m\n\u001b[1m Row \u001b[0m│\u001b[1m ConcreteType                 \u001b[0m\u001b[1m SuperTypes                        \u001b[0m\u001b[1m Count \u001b[0m\n\u001b[1m     \u001b[0m│\u001b[90m String                       \u001b[0m\u001b[90m String                            \u001b[0m\u001b[90m Int64 \u001b[0m\n─────┼────────────────────────────────────────────────────────────────────────\n   1 │ Arc                           Topology <: Component <: Infrast…    109\n   2 │ Area                          AggregationTopology <: Topology …      3\n   3 │ Bus                           Topology <: Component <: Infrast…     73\n   4 │ GenericBattery                Storage <: StaticInjection <: De…      1\n   5 │ HVDCLine                      DCBranch <: Branch <: Device <: …      1\n   6 │ HydroDispatch                 HydroGen <: Generator <: StaticI…      1\n   7 │ HydroEnergyReservoir          HydroGen <: Generator <: StaticI…     19\n   8 │ Line                          ACBranch <: Branch <: Device <: …    105\n   9 │ LoadZone                      AggregationTopology <: Topology …     21\n  10 │ PowerLoad                     StaticLoad <: ElectricLoad <: St…     51\n  11 │ RenewableDispatch             RenewableGen <: Generator <: Sta…     30\n  12 │ RenewableFix                  RenewableGen <: Generator <: Sta…     31\n  13 │ TapTransformer                ACBranch <: Branch <: Device <: …     15\n  14 │ ThermalStandard               ThermalGen <: Generator <: Stati…     76\n  15 │ VariableReserve{ReserveDown}  Reserve{ReserveDown} <: Service …      2\n  16 │ VariableReserve{ReserveUp}    Reserve{ReserveUp} <: Service <:…      5\n\nTimeSeriesContainer\n===================\nComponents with time series data: 139\nTotal StaticTimeSeries: 179\nTotal Forecasts: 179\nResolution: 60 minutes\nFirst initial time: 2020-01-01T00:00:00\nLast initial time: 2020-01-01T00:00:00\nHorizon: 24\nInterval: 0 minutes\nForecast window count: 1\n",
      "text/html": [
       "<h1>System</h1>\n",
       "<p><b>Base Power</b>: 100.0</p>\n",
       "<h2>Components</h2>\n",
       "<p><b>Num components</b>: 543</p>\n",
       "<table class=\"data-frame\"><thead><tr><th></th><th>ConcreteType</th><th>SuperTypes</th><th>Count</th></tr><tr><th></th><th>String</th><th>String</th><th>Int64</th></tr></thead><tbody><p>16 rows × 3 columns</p><tr><th>1</th><td>Arc</td><td>Topology &lt;: Component &lt;: InfrastructureSystemsComponent &lt;: InfrastructureSystemsType &lt;: Any</td><td>109</td></tr><tr><th>2</th><td>Area</td><td>AggregationTopology &lt;: Topology &lt;: Component &lt;: InfrastructureSystemsComponent &lt;: InfrastructureSystemsType &lt;: Any</td><td>3</td></tr><tr><th>3</th><td>Bus</td><td>Topology &lt;: Component &lt;: InfrastructureSystemsComponent &lt;: InfrastructureSystemsType &lt;: Any</td><td>73</td></tr><tr><th>4</th><td>GenericBattery</td><td>Storage &lt;: StaticInjection &lt;: Device &lt;: Component &lt;: InfrastructureSystemsComponent &lt;: InfrastructureSystemsType &lt;: Any</td><td>1</td></tr><tr><th>5</th><td>HVDCLine</td><td>DCBranch &lt;: Branch &lt;: Device &lt;: Component &lt;: InfrastructureSystemsComponent &lt;: InfrastructureSystemsType &lt;: Any</td><td>1</td></tr><tr><th>6</th><td>HydroDispatch</td><td>HydroGen &lt;: Generator &lt;: StaticInjection &lt;: Device &lt;: Component &lt;: InfrastructureSystemsComponent &lt;: InfrastructureSystemsType &lt;: Any</td><td>1</td></tr><tr><th>7</th><td>HydroEnergyReservoir</td><td>HydroGen &lt;: Generator &lt;: StaticInjection &lt;: Device &lt;: Component &lt;: InfrastructureSystemsComponent &lt;: InfrastructureSystemsType &lt;: Any</td><td>19</td></tr><tr><th>8</th><td>Line</td><td>ACBranch &lt;: Branch &lt;: Device &lt;: Component &lt;: InfrastructureSystemsComponent &lt;: InfrastructureSystemsType &lt;: Any</td><td>105</td></tr><tr><th>9</th><td>LoadZone</td><td>AggregationTopology &lt;: Topology &lt;: Component &lt;: InfrastructureSystemsComponent &lt;: InfrastructureSystemsType &lt;: Any</td><td>21</td></tr><tr><th>10</th><td>PowerLoad</td><td>StaticLoad &lt;: ElectricLoad &lt;: StaticInjection &lt;: Device &lt;: Component &lt;: InfrastructureSystemsComponent &lt;: InfrastructureSystemsType &lt;: Any</td><td>51</td></tr><tr><th>11</th><td>RenewableDispatch</td><td>RenewableGen &lt;: Generator &lt;: StaticInjection &lt;: Device &lt;: Component &lt;: InfrastructureSystemsComponent &lt;: InfrastructureSystemsType &lt;: Any</td><td>30</td></tr><tr><th>12</th><td>RenewableFix</td><td>RenewableGen &lt;: Generator &lt;: StaticInjection &lt;: Device &lt;: Component &lt;: InfrastructureSystemsComponent &lt;: InfrastructureSystemsType &lt;: Any</td><td>31</td></tr><tr><th>13</th><td>TapTransformer</td><td>ACBranch &lt;: Branch &lt;: Device &lt;: Component &lt;: InfrastructureSystemsComponent &lt;: InfrastructureSystemsType &lt;: Any</td><td>15</td></tr><tr><th>14</th><td>ThermalStandard</td><td>ThermalGen &lt;: Generator &lt;: StaticInjection &lt;: Device &lt;: Component &lt;: InfrastructureSystemsComponent &lt;: InfrastructureSystemsType &lt;: Any</td><td>76</td></tr><tr><th>15</th><td>VariableReserve{ReserveDown}</td><td>Reserve{ReserveDown} &lt;: Service &lt;: Component &lt;: InfrastructureSystemsComponent &lt;: InfrastructureSystemsType &lt;: Any</td><td>2</td></tr><tr><th>16</th><td>VariableReserve{ReserveUp}</td><td>Reserve{ReserveUp} &lt;: Service &lt;: Component &lt;: InfrastructureSystemsComponent &lt;: InfrastructureSystemsType &lt;: Any</td><td>5</td></tr></tbody></table>\n",
       "\n",
       "<h2>TimeSeriesContainer</h2>\n",
       "<p><b>Components with time series data</b>: 139</p>\n",
       "<p><b>Total StaticTimeSeries</b>: 179</p>\n",
       "<p><b>Total Forecasts</b>: 179</p>\n",
       "<p><b>Resolution</b>: 60 minutes</p>\n",
       "<p><b>First initial time</b>: 2020-01-01T00:00:00</p>\n",
       "<p><b>Last initial time</b>: 2020-01-01T00:00:00</p>\n",
       "<p><b>Horizon</b>: 24</p>\n",
       "<p><b>Interval</b>: 0 minutes</p>\n",
       "<p><b>Forecast window count</b>: 1</p>\n"
      ]
     },
     "metadata": {},
     "execution_count": 4
    }
   ],
   "cell_type": "code",
   "source": [
    "pkgpath = dirname(dirname(pathof(SIIPExamples)))\n",
    "include(joinpath(pkgpath, \"test\", \"2_PowerSystems_examples\", \"parse_tabulardata.jl\"))"
   ],
   "metadata": {},
   "execution_count": 4
  },
  {
   "cell_type": "markdown",
   "source": [
    "### Selecting flow limited lines\n",
    "Since PowerSimulations will apply constraints by component type (e.g. Line), we need to\n",
    "change the component type of the lines on which we want to enforce flow limits. So, let's\n",
    "change the device type of certain branches from Line to MonitoredLine differentiate\n",
    "treatment when we build the model. Here, we can select inter-regional lines, or lines\n",
    "above a voltage threshold."
   ],
   "metadata": {}
  },
  {
   "outputs": [
    {
     "name": "stdout",
     "output_type": "stream",
     "text": [
      "┌ Info: Changing C31-2 to MonitoredLine\n",
      "└ @ Main.##277 string:5\n",
      "┌ Info: Changing B26 to MonitoredLine\n",
      "└ @ Main.##277 string:5\n",
      "┌ Info: Changing A32-2 to MonitoredLine\n",
      "└ @ Main.##277 string:5\n",
      "┌ Info: Changing CA-1 to MonitoredLine\n",
      "└ @ Main.##277 string:5\n",
      "┌ Info: Changing B34 to MonitoredLine\n",
      "└ @ Main.##277 string:5\n",
      "┌ Info: Changing B19 to MonitoredLine\n",
      "└ @ Main.##277 string:5\n",
      "┌ Info: Changing B31-2 to MonitoredLine\n",
      "└ @ Main.##277 string:5\n",
      "┌ Info: Changing C30 to MonitoredLine\n",
      "└ @ Main.##277 string:5\n",
      "┌ Info: Changing B27 to MonitoredLine\n",
      "└ @ Main.##277 string:5\n",
      "┌ Info: Changing A21 to MonitoredLine\n",
      "└ @ Main.##277 string:5\n",
      "┌ Info: Changing A32-1 to MonitoredLine\n",
      "└ @ Main.##277 string:5\n",
      "┌ Info: Changing B29 to MonitoredLine\n",
      "└ @ Main.##277 string:5\n",
      "┌ Info: Changing A18 to MonitoredLine\n",
      "└ @ Main.##277 string:5\n",
      "┌ Info: Changing C24 to MonitoredLine\n",
      "└ @ Main.##277 string:5\n",
      "┌ Info: Changing C28 to MonitoredLine\n",
      "└ @ Main.##277 string:5\n",
      "┌ Info: Changing A29 to MonitoredLine\n",
      "└ @ Main.##277 string:5\n",
      "┌ Info: Changing AB2 to MonitoredLine\n",
      "└ @ Main.##277 string:5\n",
      "┌ Info: Changing C27 to MonitoredLine\n",
      "└ @ Main.##277 string:5\n",
      "┌ Info: Changing C35 to MonitoredLine\n",
      "└ @ Main.##277 string:5\n",
      "┌ Info: Changing A25-1 to MonitoredLine\n",
      "└ @ Main.##277 string:5\n",
      "┌ Info: Changing B31-1 to MonitoredLine\n",
      "└ @ Main.##277 string:5\n",
      "┌ Info: Changing C20 to MonitoredLine\n",
      "└ @ Main.##277 string:5\n",
      "┌ Info: Changing B23 to MonitoredLine\n",
      "└ @ Main.##277 string:5\n",
      "┌ Info: Changing A28 to MonitoredLine\n",
      "└ @ Main.##277 string:5\n",
      "┌ Info: Changing A19 to MonitoredLine\n",
      "└ @ Main.##277 string:5\n",
      "┌ Info: Changing B25-1 to MonitoredLine\n",
      "└ @ Main.##277 string:5\n",
      "┌ Info: Changing C19 to MonitoredLine\n",
      "└ @ Main.##277 string:5\n",
      "┌ Info: Changing C23 to MonitoredLine\n",
      "└ @ Main.##277 string:5\n",
      "┌ Info: Changing C25-1 to MonitoredLine\n",
      "└ @ Main.##277 string:5\n",
      "┌ Info: Changing C32-2 to MonitoredLine\n",
      "└ @ Main.##277 string:5\n",
      "┌ Info: Changing B20 to MonitoredLine\n",
      "└ @ Main.##277 string:5\n",
      "┌ Info: Changing C25-2 to MonitoredLine\n",
      "└ @ Main.##277 string:5\n",
      "┌ Info: Changing A27 to MonitoredLine\n",
      "└ @ Main.##277 string:5\n",
      "┌ Info: Changing C21 to MonitoredLine\n",
      "└ @ Main.##277 string:5\n",
      "┌ Info: Changing A34 to MonitoredLine\n",
      "└ @ Main.##277 string:5\n",
      "┌ Info: Changing B32-1 to MonitoredLine\n",
      "└ @ Main.##277 string:5\n",
      "┌ Info: Changing B33-1 to MonitoredLine\n",
      "└ @ Main.##277 string:5\n",
      "┌ Info: Changing C26 to MonitoredLine\n",
      "└ @ Main.##277 string:5\n",
      "┌ Info: Changing A22 to MonitoredLine\n",
      "└ @ Main.##277 string:5\n",
      "┌ Info: Changing A31-1 to MonitoredLine\n",
      "└ @ Main.##277 string:5\n",
      "┌ Info: Changing A33-2 to MonitoredLine\n",
      "└ @ Main.##277 string:5\n",
      "┌ Info: Changing AB3 to MonitoredLine\n",
      "└ @ Main.##277 string:5\n",
      "┌ Info: Changing A31-2 to MonitoredLine\n",
      "└ @ Main.##277 string:5\n",
      "┌ Info: Changing C33-2 to MonitoredLine\n",
      "└ @ Main.##277 string:5\n",
      "┌ Info: Changing CB-1 to MonitoredLine\n",
      "└ @ Main.##277 string:5\n",
      "┌ Info: Changing A26 to MonitoredLine\n",
      "└ @ Main.##277 string:5\n",
      "┌ Info: Changing C33-1 to MonitoredLine\n",
      "└ @ Main.##277 string:5\n",
      "┌ Info: Changing B21 to MonitoredLine\n",
      "└ @ Main.##277 string:5\n",
      "┌ Info: Changing C29 to MonitoredLine\n",
      "└ @ Main.##277 string:5\n",
      "┌ Info: Changing C18 to MonitoredLine\n",
      "└ @ Main.##277 string:5\n",
      "┌ Info: Changing A25-2 to MonitoredLine\n",
      "└ @ Main.##277 string:5\n",
      "┌ Info: Changing B22 to MonitoredLine\n",
      "└ @ Main.##277 string:5\n",
      "┌ Info: Changing B30 to MonitoredLine\n",
      "└ @ Main.##277 string:5\n",
      "┌ Info: Changing A33-1 to MonitoredLine\n",
      "└ @ Main.##277 string:5\n",
      "┌ Info: Changing C31-1 to MonitoredLine\n",
      "└ @ Main.##277 string:5\n",
      "┌ Info: Changing A20 to MonitoredLine\n",
      "└ @ Main.##277 string:5\n",
      "┌ Info: Changing B24 to MonitoredLine\n",
      "└ @ Main.##277 string:5\n",
      "┌ Info: Changing B28 to MonitoredLine\n",
      "└ @ Main.##277 string:5\n",
      "┌ Info: Changing A23 to MonitoredLine\n",
      "└ @ Main.##277 string:5\n",
      "┌ Info: Changing B32-2 to MonitoredLine\n",
      "└ @ Main.##277 string:5\n",
      "┌ Info: Changing A24 to MonitoredLine\n",
      "└ @ Main.##277 string:5\n",
      "┌ Info: Changing B33-2 to MonitoredLine\n",
      "└ @ Main.##277 string:5\n",
      "┌ Info: Changing A30 to MonitoredLine\n",
      "└ @ Main.##277 string:5\n",
      "┌ Info: Changing B25-2 to MonitoredLine\n",
      "└ @ Main.##277 string:5\n",
      "┌ Info: Changing C22 to MonitoredLine\n",
      "└ @ Main.##277 string:5\n",
      "┌ Info: Changing C34 to MonitoredLine\n",
      "└ @ Main.##277 string:5\n",
      "┌ Info: Changing C32-1 to MonitoredLine\n",
      "└ @ Main.##277 string:5\n",
      "┌ Info: Changing B18 to MonitoredLine\n",
      "└ @ Main.##277 string:5\n"
     ]
    }
   ],
   "cell_type": "code",
   "source": [
    "for line in get_components(Line, sys)\n",
    "    if (get_base_voltage(get_from(get_arc(line))) >= 230.0) &&\n",
    "       (get_base_voltage(get_to(get_arc(line))) >= 230.0)\n",
    "        #if get_area(get_from(get_arc(line))) != get_area(get_to(get_arc(line)))\n",
    "        @info \"Changing $(get_name(line)) to MonitoredLine\"\n",
    "        convert_component!(MonitoredLine, line, sys)\n",
    "    end\n",
    "end"
   ],
   "metadata": {},
   "execution_count": 5
  },
  {
   "cell_type": "markdown",
   "source": [
    "## Build an `OperationsProblem`"
   ],
   "metadata": {}
  },
  {
   "outputs": [
    {
     "name": "stdout",
     "output_type": "stream",
     "text": [
      "┌ Info: Unit System changed to SYSTEM_BASE\n",
      "└ @ PowerSystems /Users/cbarrows/.julia/packages/PowerSystems/eF3Pv/src/base.jl:282\n",
      "┌ Warning: The data doesn't include devices of type InterruptibleLoad, consider changing the device models\n",
      "└ @ PowerSimulations /Users/cbarrows/.julia/packages/PowerSimulations/0nHyl/src/devices_models/device_constructors/common/constructor_validations.jl:3\n",
      "┌ Warning: No variable cost defined for 201_HYDRO_4\n",
      "└ @ PowerSimulations /Users/cbarrows/.julia/packages/PowerSimulations/0nHyl/src/devices_models/devices/common/cost_functions.jl:337\n",
      "┌ Warning: The data doesn't include devices of type Transformer2W, consider changing the device models\n",
      "└ @ PowerSimulations /Users/cbarrows/.julia/packages/PowerSimulations/0nHyl/src/devices_models/device_constructors/common/constructor_validations.jl:3\n"
     ]
    },
    {
     "output_type": "execute_result",
     "data": {
      "text/plain": "\nOperations Problem Specification\n============================================\n\n  transmission:  PowerModels.DCPPowerModel\n============================================\n  devices: \n      ILoads:\n        device_type = InterruptibleLoad\n        formulation = PowerSimulations.InterruptiblePowerLoad\n      HydroROR:\n        device_type = HydroDispatch\n        formulation = PowerSimulations.HydroDispatchRunOfRiver\n      Generators:\n        device_type = ThermalStandard\n        formulation = PowerSimulations.ThermalBasicUnitCommitment\n      DistRE:\n        device_type = RenewableFix\n        formulation = PowerSimulations.FixedOutput\n      Hydro:\n        device_type = HydroEnergyReservoir\n        formulation = PowerSimulations.HydroDispatchRunOfRiver\n      Loads:\n        device_type = PowerLoad\n        formulation = PowerSimulations.StaticPowerLoad\n      RE:\n        device_type = RenewableDispatch\n        formulation = PowerSimulations.RenewableFullDispatch\n============================================\n  branches: \n      T:\n        device_type = Transformer2W\n        formulation = PowerSimulations.StaticTransformer\n      TT:\n        device_type = TapTransformer\n        formulation = PowerSimulations.StaticTransformer\n      L:\n        device_type = Line\n        formulation = PowerSimulations.StaticLine\n      DC:\n        device_type = HVDCLine\n        formulation = PowerSimulations.HVDCDispatch\n============================================\n  services: \n      ReserveDown:\n        service_type = VariableReserve{ReserveDown}\n        formulation = PowerSimulations.RangeReserve\n      ReserveUp:\n        service_type = VariableReserve{ReserveUp}\n        formulation = PowerSimulations.RangeReserve\n============================================\n"
     },
     "metadata": {},
     "execution_count": 6
    }
   ],
   "cell_type": "code",
   "source": [
    "uc_prob =\n",
    "    UnitCommitmentProblem(sys, optimizer = solver, horizon = 24, network = DCPPowerModel)"
   ],
   "metadata": {},
   "execution_count": 6
  },
  {
   "cell_type": "markdown",
   "source": [
    "Let's change the formulation of the `Line` components to an unbounded flow formulation.\n",
    "This formulation still enforces Kirchoff's laws, but does not apply flow constraints."
   ],
   "metadata": {}
  },
  {
   "outputs": [
    {
     "name": "stdout",
     "output_type": "stream",
     "text": [
      "┌ Info: Unit System changed to SYSTEM_BASE\n",
      "└ @ PowerSystems /Users/cbarrows/.julia/packages/PowerSystems/eF3Pv/src/base.jl:282\n",
      "┌ Warning: The data doesn't include devices of type InterruptibleLoad, consider changing the device models\n",
      "└ @ PowerSimulations /Users/cbarrows/.julia/packages/PowerSimulations/0nHyl/src/devices_models/device_constructors/common/constructor_validations.jl:3\n",
      "┌ Warning: No variable cost defined for 201_HYDRO_4\n",
      "└ @ PowerSimulations /Users/cbarrows/.julia/packages/PowerSimulations/0nHyl/src/devices_models/devices/common/cost_functions.jl:337\n",
      "┌ Warning: The data doesn't include devices of type Transformer2W, consider changing the device models\n",
      "└ @ PowerSimulations /Users/cbarrows/.julia/packages/PowerSimulations/0nHyl/src/devices_models/device_constructors/common/constructor_validations.jl:3\n"
     ]
    }
   ],
   "cell_type": "code",
   "source": [
    "set_branch_model!(uc_prob, :L, DeviceModel(Line, StaticLineUnbounded))"
   ],
   "metadata": {},
   "execution_count": 7
  },
  {
   "cell_type": "markdown",
   "source": [
    "Notice that there is no entry for `MonitoredLine` branches. So, let's add one."
   ],
   "metadata": {}
  },
  {
   "outputs": [],
   "cell_type": "code",
   "source": [
    "construct_device!(uc_prob, :ML, DeviceModel(MonitoredLine, StaticLine))"
   ],
   "metadata": {},
   "execution_count": 8
  },
  {
   "cell_type": "markdown",
   "source": [
    "Solve the relaxed problem"
   ],
   "metadata": {}
  },
  {
   "outputs": [
    {
     "output_type": "execute_result",
     "data": {
      "text/plain": "\nResults\n========\n\nVariables\n=========\n\nP__ThermalStandard: (24, 76)\nP__RenewableDispatch: (24, 30)\nReg_Down__VariableReserve_ReserveDown: (24, 102)\nP__HydroEnergyReservoir: (24, 19)\nFlex_Down__VariableReserve_ReserveDown: (24, 102)\nFp__MonitoredLine: (24, 68)\nReg_Up__VariableReserve_ReserveUp: (24, 102)\nP__HydroDispatch: (24, 1)\nSpin_Up_R2__VariableReserve_ReserveUp: (24, 25)\ntheta__Bus: (24, 73)\nOn__ThermalStandard: (24, 76)\nFp__Line: (24, 37)\nstart__ThermalStandard: (24, 76)\nFlex_Up__VariableReserve_ReserveUp: (24, 102)\nFp__TapTransformer: (24, 15)\nFp__HVDCLine: (24, 1)\nstop__ThermalStandard: (24, 76)\nSpin_Up_R1__VariableReserve_ReserveUp: (24, 34)\nSpin_Up_R3__VariableReserve_ReserveUp: (24, 43)\n\n\nOptimizer Log\n-------------\n        timed_solve_time = 113.941146075\n        solve_bytes_alloc = 113485658\n        solve_time = 113.45353603363037\n        obj_value = 1.1003593503601612e6\n        solver = COIN Branch-and-Cut (Cbc)\n        sec_in_gc = 0.0\n        dual_status = NO_SOLUTION\n        primal_status = FEASIBLE_POINT\n        termination_status = OPTIMAL\n\n\nTotal Cost: OBJECTIVE_FUNCTION = 1.1003593503601612e6\n",
      "text/html": [
       "<h1>Results</h1>\n",
       "<h2>Variables</h2>\n",
       "<p>P__ThermalStandard: (24, 76)</p>\n",
       "<p>P__RenewableDispatch: (24, 30)</p>\n",
       "<p>Reg_Down__VariableReserve_ReserveDown: (24, 102)</p>\n",
       "<p>P__HydroEnergyReservoir: (24, 19)</p>\n",
       "<p>Flex_Down__VariableReserve_ReserveDown: (24, 102)</p>\n",
       "<p>Fp__MonitoredLine: (24, 68)</p>\n",
       "<p>Reg_Up__VariableReserve_ReserveUp: (24, 102)</p>\n",
       "<p>P__HydroDispatch: (24, 1)</p>\n",
       "<p>Spin_Up_R2__VariableReserve_ReserveUp: (24, 25)</p>\n",
       "<p>theta__Bus: (24, 73)</p>\n",
       "<p>On__ThermalStandard: (24, 76)</p>\n",
       "<p>Fp__Line: (24, 37)</p>\n",
       "<p>start__ThermalStandard: (24, 76)</p>\n",
       "<p>Flex_Up__VariableReserve_ReserveUp: (24, 102)</p>\n",
       "<p>Fp__TapTransformer: (24, 15)</p>\n",
       "<p>Fp__HVDCLine: (24, 1)</p>\n",
       "<p>stop__ThermalStandard: (24, 76)</p>\n",
       "<p>Spin_Up_R1__VariableReserve_ReserveUp: (24, 34)</p>\n",
       "<p>Spin_Up_R3__VariableReserve_ReserveUp: (24, 43)</p>\n",
       "<p><b>Optimizer Log</b></p>\n",
       "<p>        timed_solve_time = 113.941146075</p>\n",
       "<p>        solve_bytes_alloc = 113485658</p>\n",
       "<p>        solve_time = 113.45353603363037</p>\n",
       "<p>        obj_value = 1.1003593503601612e6</p>\n",
       "<p>        solver = COIN Branch-and-Cut (Cbc)</p>\n",
       "<p>        sec_in_gc = 0.0</p>\n",
       "<p>        dual_status = NO_SOLUTION</p>\n",
       "<p>        primal_status = FEASIBLE_POINT</p>\n",
       "<p>        termination_status = OPTIMAL</p>\n",
       "\n",
       "\n",
       "<p><b>Total Cost: 1.1003593503601612e6<b/></p>\n"
      ]
     },
     "metadata": {},
     "execution_count": 9
    }
   ],
   "cell_type": "code",
   "source": [
    "solve!(uc_prob)"
   ],
   "metadata": {},
   "execution_count": 9
  },
  {
   "cell_type": "markdown",
   "source": [
    "---\n",
    "\n",
    "*This notebook was generated using [Literate.jl](https://github.com/fredrikekre/Literate.jl).*"
   ],
   "metadata": {}
  }
 ],
 "nbformat_minor": 3,
 "metadata": {
  "language_info": {
   "file_extension": ".jl",
   "mimetype": "application/julia",
   "name": "julia",
   "version": "1.5.2"
  },
  "kernelspec": {
   "name": "julia-1.5",
   "display_name": "Julia 1.5.2",
   "language": "julia"
  }
 },
 "nbformat": 4
}
