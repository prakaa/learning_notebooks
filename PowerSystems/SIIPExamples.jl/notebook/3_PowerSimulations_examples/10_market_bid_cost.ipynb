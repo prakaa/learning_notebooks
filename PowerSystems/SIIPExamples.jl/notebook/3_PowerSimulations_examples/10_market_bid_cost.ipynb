{
 "cells": [
  {
   "cell_type": "markdown",
   "source": [
    "# Operations problems with [PowerSimulations.jl](https://github.com/NREL-SIIP/PowerSimulations.jl)"
   ],
   "metadata": {}
  },
  {
   "cell_type": "markdown",
   "source": [
    "**Originally Contributed by**: Sourabh Dalvi"
   ],
   "metadata": {}
  },
  {
   "cell_type": "markdown",
   "source": [
    "## Introduction"
   ],
   "metadata": {}
  },
  {
   "cell_type": "markdown",
   "source": [
    "PowerSimulations.jl supports the construction of Operations problems in power system\n",
    "with three part cost bids for each time step. MarketBidCost allows the user to pass a\n",
    "time-series of variable cost for energy and ancillary services jointly.\n",
    "This example shows how to build a Operations problem with MarketBidCost and how to add\n",
    "the time-series data to the devices."
   ],
   "metadata": {}
  },
  {
   "cell_type": "markdown",
   "source": [
    "## Dependencies"
   ],
   "metadata": {}
  },
  {
   "outputs": [],
   "cell_type": "code",
   "source": [
    "using SIIPExamples"
   ],
   "metadata": {},
   "execution_count": 1
  },
  {
   "cell_type": "markdown",
   "source": [
    "### Modeling Packages"
   ],
   "metadata": {}
  },
  {
   "outputs": [],
   "cell_type": "code",
   "source": [
    "using PowerSystems\n",
    "using PowerSimulations\n",
    "const PSI = PowerSimulations\n",
    "using D3TypeTrees"
   ],
   "metadata": {},
   "execution_count": 2
  },
  {
   "cell_type": "markdown",
   "source": [
    "### Data management packages"
   ],
   "metadata": {}
  },
  {
   "outputs": [],
   "cell_type": "code",
   "source": [
    "using Dates\n",
    "using DataFrames\n",
    "using TimeSeries"
   ],
   "metadata": {},
   "execution_count": 3
  },
  {
   "cell_type": "markdown",
   "source": [
    "### Optimization packages"
   ],
   "metadata": {}
  },
  {
   "outputs": [],
   "cell_type": "code",
   "source": [
    "using Cbc #solver"
   ],
   "metadata": {},
   "execution_count": 4
  },
  {
   "cell_type": "markdown",
   "source": [
    "### Data\n",
    "This data depends upon the [RTS-GMLC](https://github.com/gridmod/rts-gmlc) dataset. Let's\n",
    "download and extract the data."
   ],
   "metadata": {}
  },
  {
   "outputs": [],
   "cell_type": "code",
   "source": [
    "rts_dir = SIIPExamples.download(\"https://github.com/GridMod/RTS-GMLC\")\n",
    "rts_src_dir = joinpath(rts_dir, \"RTS_Data\", \"SourceData\")\n",
    "rts_siip_dir = joinpath(rts_dir, \"RTS_Data\", \"FormattedData\", \"SIIP\");"
   ],
   "metadata": {},
   "execution_count": 5
  },
  {
   "cell_type": "markdown",
   "source": [
    "### Create a `System` from RTS-GMLC data just like we did in the [parsing tabular data example.](../../notebook/2_PowerSystems_examples/parse_tabulardata.jl)"
   ],
   "metadata": {}
  },
  {
   "outputs": [
    {
     "name": "stdout",
     "output_type": "stream",
     "text": [
      "┌ Info: Parsing csv data in branch.csv ...\n",
      "└ @ PowerSystems /Users/cbarrows/.julia/packages/PowerSystems/eF3Pv/src/parsers/power_system_table_data.jl:143\n",
      "┌ Info: Successfully parsed branch.csv\n",
      "└ @ PowerSystems /Users/cbarrows/.julia/packages/PowerSystems/eF3Pv/src/parsers/power_system_table_data.jl:148\n",
      "┌ Info: Parsing csv data in bus.csv ...\n",
      "└ @ PowerSystems /Users/cbarrows/.julia/packages/PowerSystems/eF3Pv/src/parsers/power_system_table_data.jl:143\n",
      "┌ Info: Successfully parsed bus.csv\n",
      "└ @ PowerSystems /Users/cbarrows/.julia/packages/PowerSystems/eF3Pv/src/parsers/power_system_table_data.jl:148\n",
      "┌ Info: Parsing csv data in dc_branch.csv ...\n",
      "└ @ PowerSystems /Users/cbarrows/.julia/packages/PowerSystems/eF3Pv/src/parsers/power_system_table_data.jl:143\n",
      "┌ Info: Successfully parsed dc_branch.csv\n",
      "└ @ PowerSystems /Users/cbarrows/.julia/packages/PowerSystems/eF3Pv/src/parsers/power_system_table_data.jl:148\n",
      "┌ Info: Parsing csv data in gen.csv ...\n",
      "└ @ PowerSystems /Users/cbarrows/.julia/packages/PowerSystems/eF3Pv/src/parsers/power_system_table_data.jl:143\n",
      "┌ Info: Successfully parsed gen.csv\n",
      "└ @ PowerSystems /Users/cbarrows/.julia/packages/PowerSystems/eF3Pv/src/parsers/power_system_table_data.jl:148\n",
      "┌ Info: Parsing csv data in reserves.csv ...\n",
      "└ @ PowerSystems /Users/cbarrows/.julia/packages/PowerSystems/eF3Pv/src/parsers/power_system_table_data.jl:143\n",
      "┌ Info: Successfully parsed reserves.csv\n",
      "└ @ PowerSystems /Users/cbarrows/.julia/packages/PowerSystems/eF3Pv/src/parsers/power_system_table_data.jl:148\n",
      "┌ Info: Parsing csv data in simulation_objects.csv ...\n",
      "└ @ PowerSystems /Users/cbarrows/.julia/packages/PowerSystems/eF3Pv/src/parsers/power_system_table_data.jl:143\n",
      "┌ Info: Successfully parsed simulation_objects.csv\n",
      "└ @ PowerSystems /Users/cbarrows/.julia/packages/PowerSystems/eF3Pv/src/parsers/power_system_table_data.jl:148\n",
      "┌ Info: Parsing csv data in storage.csv ...\n",
      "└ @ PowerSystems /Users/cbarrows/.julia/packages/PowerSystems/eF3Pv/src/parsers/power_system_table_data.jl:143\n",
      "┌ Info: Successfully parsed storage.csv\n",
      "└ @ PowerSystems /Users/cbarrows/.julia/packages/PowerSystems/eF3Pv/src/parsers/power_system_table_data.jl:148\n",
      "┌ Info: Parsing csv data in timeseries_pointers.csv ...\n",
      "└ @ PowerSystems /Users/cbarrows/.julia/packages/PowerSystems/eF3Pv/src/parsers/power_system_table_data.jl:143\n",
      "┌ Info: Successfully parsed timeseries_pointers.csv\n",
      "└ @ PowerSystems /Users/cbarrows/.julia/packages/PowerSystems/eF3Pv/src/parsers/power_system_table_data.jl:148\n",
      "┌ Info: Unit System changed to DEVICE_BASE\n",
      "└ @ PowerSystems /Users/cbarrows/.julia/packages/PowerSystems/eF3Pv/src/base.jl:288\n",
      "┌ Warning: Missing LOAD data.\n",
      "└ @ PowerSystems /Users/cbarrows/.julia/packages/PowerSystems/eF3Pv/src/parsers/power_system_table_data.jl:212\n",
      "┌ Warning: User-defined column name Startup Ramp Rate MW/min is not in dataframe.\n",
      "└ @ PowerSystems /Users/cbarrows/.julia/packages/PowerSystems/eF3Pv/src/parsers/power_system_table_data.jl:1215\n",
      "┌ Warning: User-defined column name Shutdown Ramp Rate MW/min is not in dataframe.\n",
      "└ @ PowerSystems /Users/cbarrows/.julia/packages/PowerSystems/eF3Pv/src/parsers/power_system_table_data.jl:1215\n",
      "┌ Warning: User-defined column name Status at Start is not in dataframe.\n",
      "└ @ PowerSystems /Users/cbarrows/.julia/packages/PowerSystems/eF3Pv/src/parsers/power_system_table_data.jl:1215\n",
      "┌ Warning: User-defined column name Time at Status is not in dataframe.\n",
      "└ @ PowerSystems /Users/cbarrows/.julia/packages/PowerSystems/eF3Pv/src/parsers/power_system_table_data.jl:1215\n",
      "┌ Warning: User-defined column name Start Cost Cold is not in dataframe.\n",
      "└ @ PowerSystems /Users/cbarrows/.julia/packages/PowerSystems/eF3Pv/src/parsers/power_system_table_data.jl:1215\n",
      "┌ Warning: User-defined column name Start Cost Warm is not in dataframe.\n",
      "└ @ PowerSystems /Users/cbarrows/.julia/packages/PowerSystems/eF3Pv/src/parsers/power_system_table_data.jl:1215\n",
      "┌ Warning: User-defined column name Start Cost Hot is not in dataframe.\n",
      "└ @ PowerSystems /Users/cbarrows/.julia/packages/PowerSystems/eF3Pv/src/parsers/power_system_table_data.jl:1215\n",
      "┌ Warning: User-defined column name Must Run is not in dataframe.\n",
      "└ @ PowerSystems /Users/cbarrows/.julia/packages/PowerSystems/eF3Pv/src/parsers/power_system_table_data.jl:1215\n",
      "┌ Warning: Missing LOAD data.\n",
      "└ @ PowerSystems /Users/cbarrows/.julia/packages/PowerSystems/eF3Pv/src/parsers/power_system_table_data.jl:212\n",
      "┌ Info: Adding contributing generators for Spin_Up_R1 by category\n",
      "└ @ PowerSystems /Users/cbarrows/.julia/packages/PowerSystems/eF3Pv/src/parsers/power_system_table_data.jl:656\n",
      "┌ Warning: User-defined column name Startup Ramp Rate MW/min is not in dataframe.\n",
      "└ @ PowerSystems /Users/cbarrows/.julia/packages/PowerSystems/eF3Pv/src/parsers/power_system_table_data.jl:1215\n",
      "┌ Warning: User-defined column name Shutdown Ramp Rate MW/min is not in dataframe.\n",
      "└ @ PowerSystems /Users/cbarrows/.julia/packages/PowerSystems/eF3Pv/src/parsers/power_system_table_data.jl:1215\n",
      "┌ Warning: User-defined column name Status at Start is not in dataframe.\n",
      "└ @ PowerSystems /Users/cbarrows/.julia/packages/PowerSystems/eF3Pv/src/parsers/power_system_table_data.jl:1215\n",
      "┌ Warning: User-defined column name Time at Status is not in dataframe.\n",
      "└ @ PowerSystems /Users/cbarrows/.julia/packages/PowerSystems/eF3Pv/src/parsers/power_system_table_data.jl:1215\n",
      "┌ Warning: User-defined column name Start Cost Cold is not in dataframe.\n",
      "└ @ PowerSystems /Users/cbarrows/.julia/packages/PowerSystems/eF3Pv/src/parsers/power_system_table_data.jl:1215\n",
      "┌ Warning: User-defined column name Start Cost Warm is not in dataframe.\n",
      "└ @ PowerSystems /Users/cbarrows/.julia/packages/PowerSystems/eF3Pv/src/parsers/power_system_table_data.jl:1215\n",
      "┌ Warning: User-defined column name Start Cost Hot is not in dataframe.\n",
      "└ @ PowerSystems /Users/cbarrows/.julia/packages/PowerSystems/eF3Pv/src/parsers/power_system_table_data.jl:1215\n",
      "┌ Warning: User-defined column name Must Run is not in dataframe.\n",
      "└ @ PowerSystems /Users/cbarrows/.julia/packages/PowerSystems/eF3Pv/src/parsers/power_system_table_data.jl:1215\n",
      "┌ Info: Adding contributing generators for Spin_Up_R2 by category\n",
      "└ @ PowerSystems /Users/cbarrows/.julia/packages/PowerSystems/eF3Pv/src/parsers/power_system_table_data.jl:656\n",
      "┌ Warning: User-defined column name Startup Ramp Rate MW/min is not in dataframe.\n",
      "└ @ PowerSystems /Users/cbarrows/.julia/packages/PowerSystems/eF3Pv/src/parsers/power_system_table_data.jl:1215\n",
      "┌ Warning: User-defined column name Shutdown Ramp Rate MW/min is not in dataframe.\n",
      "└ @ PowerSystems /Users/cbarrows/.julia/packages/PowerSystems/eF3Pv/src/parsers/power_system_table_data.jl:1215\n",
      "┌ Warning: User-defined column name Status at Start is not in dataframe.\n",
      "└ @ PowerSystems /Users/cbarrows/.julia/packages/PowerSystems/eF3Pv/src/parsers/power_system_table_data.jl:1215\n",
      "┌ Warning: User-defined column name Time at Status is not in dataframe.\n",
      "└ @ PowerSystems /Users/cbarrows/.julia/packages/PowerSystems/eF3Pv/src/parsers/power_system_table_data.jl:1215\n",
      "┌ Warning: User-defined column name Start Cost Cold is not in dataframe.\n",
      "└ @ PowerSystems /Users/cbarrows/.julia/packages/PowerSystems/eF3Pv/src/parsers/power_system_table_data.jl:1215\n",
      "┌ Warning: User-defined column name Start Cost Warm is not in dataframe.\n",
      "└ @ PowerSystems /Users/cbarrows/.julia/packages/PowerSystems/eF3Pv/src/parsers/power_system_table_data.jl:1215\n",
      "┌ Warning: User-defined column name Start Cost Hot is not in dataframe.\n",
      "└ @ PowerSystems /Users/cbarrows/.julia/packages/PowerSystems/eF3Pv/src/parsers/power_system_table_data.jl:1215\n",
      "┌ Warning: User-defined column name Must Run is not in dataframe.\n",
      "└ @ PowerSystems /Users/cbarrows/.julia/packages/PowerSystems/eF3Pv/src/parsers/power_system_table_data.jl:1215\n",
      "┌ Info: Adding contributing generators for Spin_Up_R3 by category\n",
      "└ @ PowerSystems /Users/cbarrows/.julia/packages/PowerSystems/eF3Pv/src/parsers/power_system_table_data.jl:656\n",
      "┌ Warning: User-defined column name Startup Ramp Rate MW/min is not in dataframe.\n",
      "└ @ PowerSystems /Users/cbarrows/.julia/packages/PowerSystems/eF3Pv/src/parsers/power_system_table_data.jl:1215\n",
      "┌ Warning: User-defined column name Shutdown Ramp Rate MW/min is not in dataframe.\n",
      "└ @ PowerSystems /Users/cbarrows/.julia/packages/PowerSystems/eF3Pv/src/parsers/power_system_table_data.jl:1215\n",
      "┌ Warning: User-defined column name Status at Start is not in dataframe.\n",
      "└ @ PowerSystems /Users/cbarrows/.julia/packages/PowerSystems/eF3Pv/src/parsers/power_system_table_data.jl:1215\n",
      "┌ Warning: User-defined column name Time at Status is not in dataframe.\n",
      "└ @ PowerSystems /Users/cbarrows/.julia/packages/PowerSystems/eF3Pv/src/parsers/power_system_table_data.jl:1215\n",
      "┌ Warning: User-defined column name Start Cost Cold is not in dataframe.\n",
      "└ @ PowerSystems /Users/cbarrows/.julia/packages/PowerSystems/eF3Pv/src/parsers/power_system_table_data.jl:1215\n",
      "┌ Warning: User-defined column name Start Cost Warm is not in dataframe.\n",
      "└ @ PowerSystems /Users/cbarrows/.julia/packages/PowerSystems/eF3Pv/src/parsers/power_system_table_data.jl:1215\n",
      "┌ Warning: User-defined column name Start Cost Hot is not in dataframe.\n",
      "└ @ PowerSystems /Users/cbarrows/.julia/packages/PowerSystems/eF3Pv/src/parsers/power_system_table_data.jl:1215\n",
      "┌ Warning: User-defined column name Must Run is not in dataframe.\n",
      "└ @ PowerSystems /Users/cbarrows/.julia/packages/PowerSystems/eF3Pv/src/parsers/power_system_table_data.jl:1215\n",
      "┌ Info: Adding contributing generators for Flex_Up by category\n",
      "└ @ PowerSystems /Users/cbarrows/.julia/packages/PowerSystems/eF3Pv/src/parsers/power_system_table_data.jl:656\n",
      "┌ Warning: User-defined column name Startup Ramp Rate MW/min is not in dataframe.\n",
      "└ @ PowerSystems /Users/cbarrows/.julia/packages/PowerSystems/eF3Pv/src/parsers/power_system_table_data.jl:1215\n",
      "┌ Warning: User-defined column name Shutdown Ramp Rate MW/min is not in dataframe.\n",
      "└ @ PowerSystems /Users/cbarrows/.julia/packages/PowerSystems/eF3Pv/src/parsers/power_system_table_data.jl:1215\n",
      "┌ Warning: User-defined column name Status at Start is not in dataframe.\n",
      "└ @ PowerSystems /Users/cbarrows/.julia/packages/PowerSystems/eF3Pv/src/parsers/power_system_table_data.jl:1215\n",
      "┌ Warning: User-defined column name Time at Status is not in dataframe.\n",
      "└ @ PowerSystems /Users/cbarrows/.julia/packages/PowerSystems/eF3Pv/src/parsers/power_system_table_data.jl:1215\n",
      "┌ Warning: User-defined column name Start Cost Cold is not in dataframe.\n",
      "└ @ PowerSystems /Users/cbarrows/.julia/packages/PowerSystems/eF3Pv/src/parsers/power_system_table_data.jl:1215\n",
      "┌ Warning: User-defined column name Start Cost Warm is not in dataframe.\n",
      "└ @ PowerSystems /Users/cbarrows/.julia/packages/PowerSystems/eF3Pv/src/parsers/power_system_table_data.jl:1215\n",
      "┌ Warning: User-defined column name Start Cost Hot is not in dataframe.\n",
      "└ @ PowerSystems /Users/cbarrows/.julia/packages/PowerSystems/eF3Pv/src/parsers/power_system_table_data.jl:1215\n",
      "┌ Warning: User-defined column name Must Run is not in dataframe.\n",
      "└ @ PowerSystems /Users/cbarrows/.julia/packages/PowerSystems/eF3Pv/src/parsers/power_system_table_data.jl:1215\n",
      "┌ Info: Adding contributing generators for Flex_Down by category\n",
      "└ @ PowerSystems /Users/cbarrows/.julia/packages/PowerSystems/eF3Pv/src/parsers/power_system_table_data.jl:656\n",
      "┌ Warning: User-defined column name Startup Ramp Rate MW/min is not in dataframe.\n",
      "└ @ PowerSystems /Users/cbarrows/.julia/packages/PowerSystems/eF3Pv/src/parsers/power_system_table_data.jl:1215\n",
      "┌ Warning: User-defined column name Shutdown Ramp Rate MW/min is not in dataframe.\n",
      "└ @ PowerSystems /Users/cbarrows/.julia/packages/PowerSystems/eF3Pv/src/parsers/power_system_table_data.jl:1215\n",
      "┌ Warning: User-defined column name Status at Start is not in dataframe.\n",
      "└ @ PowerSystems /Users/cbarrows/.julia/packages/PowerSystems/eF3Pv/src/parsers/power_system_table_data.jl:1215\n",
      "┌ Warning: User-defined column name Time at Status is not in dataframe.\n",
      "└ @ PowerSystems /Users/cbarrows/.julia/packages/PowerSystems/eF3Pv/src/parsers/power_system_table_data.jl:1215\n",
      "┌ Warning: User-defined column name Start Cost Cold is not in dataframe.\n",
      "└ @ PowerSystems /Users/cbarrows/.julia/packages/PowerSystems/eF3Pv/src/parsers/power_system_table_data.jl:1215\n",
      "┌ Warning: User-defined column name Start Cost Warm is not in dataframe.\n",
      "└ @ PowerSystems /Users/cbarrows/.julia/packages/PowerSystems/eF3Pv/src/parsers/power_system_table_data.jl:1215\n",
      "┌ Warning: User-defined column name Start Cost Hot is not in dataframe.\n",
      "└ @ PowerSystems /Users/cbarrows/.julia/packages/PowerSystems/eF3Pv/src/parsers/power_system_table_data.jl:1215\n",
      "┌ Warning: User-defined column name Must Run is not in dataframe.\n",
      "└ @ PowerSystems /Users/cbarrows/.julia/packages/PowerSystems/eF3Pv/src/parsers/power_system_table_data.jl:1215\n",
      "┌ Info: Adding contributing generators for Reg_Up by category\n",
      "└ @ PowerSystems /Users/cbarrows/.julia/packages/PowerSystems/eF3Pv/src/parsers/power_system_table_data.jl:656\n",
      "┌ Warning: User-defined column name Startup Ramp Rate MW/min is not in dataframe.\n",
      "└ @ PowerSystems /Users/cbarrows/.julia/packages/PowerSystems/eF3Pv/src/parsers/power_system_table_data.jl:1215\n",
      "┌ Warning: User-defined column name Shutdown Ramp Rate MW/min is not in dataframe.\n",
      "└ @ PowerSystems /Users/cbarrows/.julia/packages/PowerSystems/eF3Pv/src/parsers/power_system_table_data.jl:1215\n",
      "┌ Warning: User-defined column name Status at Start is not in dataframe.\n",
      "└ @ PowerSystems /Users/cbarrows/.julia/packages/PowerSystems/eF3Pv/src/parsers/power_system_table_data.jl:1215\n",
      "┌ Warning: User-defined column name Time at Status is not in dataframe.\n",
      "└ @ PowerSystems /Users/cbarrows/.julia/packages/PowerSystems/eF3Pv/src/parsers/power_system_table_data.jl:1215\n",
      "┌ Warning: User-defined column name Start Cost Cold is not in dataframe.\n",
      "└ @ PowerSystems /Users/cbarrows/.julia/packages/PowerSystems/eF3Pv/src/parsers/power_system_table_data.jl:1215\n",
      "┌ Warning: User-defined column name Start Cost Warm is not in dataframe.\n",
      "└ @ PowerSystems /Users/cbarrows/.julia/packages/PowerSystems/eF3Pv/src/parsers/power_system_table_data.jl:1215\n",
      "┌ Warning: User-defined column name Start Cost Hot is not in dataframe.\n",
      "└ @ PowerSystems /Users/cbarrows/.julia/packages/PowerSystems/eF3Pv/src/parsers/power_system_table_data.jl:1215\n",
      "┌ Warning: User-defined column name Must Run is not in dataframe.\n",
      "└ @ PowerSystems /Users/cbarrows/.julia/packages/PowerSystems/eF3Pv/src/parsers/power_system_table_data.jl:1215\n",
      "┌ Info: Adding contributing generators for Reg_Down by category\n",
      "└ @ PowerSystems /Users/cbarrows/.julia/packages/PowerSystems/eF3Pv/src/parsers/power_system_table_data.jl:656\n",
      "┌ Warning: User-defined column name Startup Ramp Rate MW/min is not in dataframe.\n",
      "└ @ PowerSystems /Users/cbarrows/.julia/packages/PowerSystems/eF3Pv/src/parsers/power_system_table_data.jl:1215\n",
      "┌ Warning: User-defined column name Shutdown Ramp Rate MW/min is not in dataframe.\n",
      "└ @ PowerSystems /Users/cbarrows/.julia/packages/PowerSystems/eF3Pv/src/parsers/power_system_table_data.jl:1215\n",
      "┌ Warning: User-defined column name Status at Start is not in dataframe.\n",
      "└ @ PowerSystems /Users/cbarrows/.julia/packages/PowerSystems/eF3Pv/src/parsers/power_system_table_data.jl:1215\n",
      "┌ Warning: User-defined column name Time at Status is not in dataframe.\n",
      "└ @ PowerSystems /Users/cbarrows/.julia/packages/PowerSystems/eF3Pv/src/parsers/power_system_table_data.jl:1215\n",
      "┌ Warning: User-defined column name Start Cost Cold is not in dataframe.\n",
      "└ @ PowerSystems /Users/cbarrows/.julia/packages/PowerSystems/eF3Pv/src/parsers/power_system_table_data.jl:1215\n",
      "┌ Warning: User-defined column name Start Cost Warm is not in dataframe.\n",
      "└ @ PowerSystems /Users/cbarrows/.julia/packages/PowerSystems/eF3Pv/src/parsers/power_system_table_data.jl:1215\n",
      "┌ Warning: User-defined column name Start Cost Hot is not in dataframe.\n",
      "└ @ PowerSystems /Users/cbarrows/.julia/packages/PowerSystems/eF3Pv/src/parsers/power_system_table_data.jl:1215\n",
      "┌ Warning: User-defined column name Must Run is not in dataframe.\n",
      "└ @ PowerSystems /Users/cbarrows/.julia/packages/PowerSystems/eF3Pv/src/parsers/power_system_table_data.jl:1215\n"
     ]
    }
   ],
   "cell_type": "code",
   "source": [
    "rawsys = PowerSystems.PowerSystemTableData(\n",
    "    rts_src_dir,\n",
    "    100.0,\n",
    "    joinpath(rts_siip_dir, \"user_descriptors.yaml\"),\n",
    "    timeseries_metadata_file = joinpath(rts_siip_dir, \"timeseries_pointers.json\"),\n",
    "    generator_mapping_file = joinpath(rts_siip_dir, \"generator_mapping.yaml\"),\n",
    ");\n",
    "sys = System(rawsys; time_series_resolution = Dates.Hour(1));"
   ],
   "metadata": {},
   "execution_count": 6
  },
  {
   "cell_type": "markdown",
   "source": [
    "### Creating the Time Series data for Energy bid"
   ],
   "metadata": {}
  },
  {
   "outputs": [],
   "cell_type": "code",
   "source": [
    "MultiDay = collect(\n",
    "    DateTime(\"2020-01-01T00:00:00\"):Hour(1):(DateTime(\"2020-01-01T00:00:00\") + Hour(8783)),\n",
    ");"
   ],
   "metadata": {},
   "execution_count": 7
  },
  {
   "cell_type": "markdown",
   "source": [
    "### Replacing existing ThreePartCost with MarketBidCost\n",
    "Here we replace the existing ThreePartCost with MarketBidCost, and add the energy bid\n",
    "time series to the system. The TimeSeriesData that holds the energy bid data can be of any\n",
    "type (i.e. `SingleTimeSeries` or `Deterministic`) and bid data should be of type\n",
    "`Array{Float64}`,`Array{Tuple{Float64, Float64}}` or `Array{Array{Tuple{Float64,Float64}}`."
   ],
   "metadata": {}
  },
  {
   "outputs": [],
   "cell_type": "code",
   "source": [
    "for gen in get_components(ThermalGen, sys)\n",
    "    varcost = get_operation_cost(gen)\n",
    "    market_bid_cost = MarketBidCost(;\n",
    "        variable = nothing,\n",
    "        no_load = get_fixed(varcost),\n",
    "        start_up = (hot = get_start_up(varcost), warm = 0.0, cold = 0.0),\n",
    "        shut_down = get_shut_down(varcost),\n",
    "        ancillary_services = Vector{Service}(),\n",
    "    )\n",
    "    set_operation_cost!(gen, market_bid_cost)\n",
    "\n",
    "    data = TimeArray(MultiDay, repeat([get_cost(get_variable(varcost))], 8784))\n",
    "    _time_series = SingleTimeSeries(\"variable_cost\", data)\n",
    "    set_variable_cost!(sys, gen, _time_series)\n",
    "end"
   ],
   "metadata": {},
   "execution_count": 8
  },
  {
   "cell_type": "markdown",
   "source": [
    "### Transforming SingleTimeSeries into Deterministic"
   ],
   "metadata": {}
  },
  {
   "outputs": [],
   "cell_type": "code",
   "source": [
    "horizon = 24;\n",
    "interval = Dates.Hour(24);\n",
    "transform_single_time_series!(sys, horizon, interval)"
   ],
   "metadata": {},
   "execution_count": 9
  },
  {
   "cell_type": "markdown",
   "source": [
    "In the [OperationsProblem example](../../notebook/3_PowerSimulations_examples/1_operations_problems.ipynb)\n",
    "we defined a unit-commitment problem with a copper plate representation of the network.\n",
    "Here, we want do define unit-commitment problem  with ThermalMultiStartUnitCommitment\n",
    "formulation for thermal device representation."
   ],
   "metadata": {}
  },
  {
   "cell_type": "markdown",
   "source": [
    "For now, let's just choose a standard ACOPF formulation."
   ],
   "metadata": {}
  },
  {
   "outputs": [
    {
     "output_type": "execute_result",
     "data": {
      "text/plain": "\nOperations Problem Specification\n============================================\n\n  transmission:  PowerSimulations.CopperPlatePowerModel\n============================================\n  devices: \n      ILoads:\n        device_type = InterruptibleLoad\n        formulation = PowerSimulations.InterruptiblePowerLoad\n      HydroROR:\n        device_type = HydroDispatch\n        formulation = PowerSimulations.HydroDispatchRunOfRiver\n      Generators:\n        device_type = ThermalStandard\n        formulation = PowerSimulations.ThermalBasicUnitCommitment\n      DistRE:\n        device_type = RenewableFix\n        formulation = PowerSimulations.FixedOutput\n      Hydro:\n        device_type = HydroEnergyReservoir\n        formulation = PowerSimulations.HydroDispatchRunOfRiver\n      Loads:\n        device_type = PowerLoad\n        formulation = PowerSimulations.StaticPowerLoad\n      RE:\n        device_type = RenewableDispatch\n        formulation = PowerSimulations.RenewableFullDispatch\n============================================\n  branches: \n      T:\n        device_type = Transformer2W\n        formulation = PowerSimulations.StaticTransformer\n      TT:\n        device_type = TapTransformer\n        formulation = PowerSimulations.StaticTransformer\n      L:\n        device_type = Line\n        formulation = PowerSimulations.StaticLine\n      DC:\n        device_type = HVDCLine\n        formulation = PowerSimulations.HVDCDispatch\n============================================\n  services: \n      ReserveDown:\n        service_type = VariableReserve{ReserveDown}\n        formulation = PowerSimulations.RangeReserve\n      ReserveUp:\n        service_type = VariableReserve{ReserveUp}\n        formulation = PowerSimulations.RangeReserve\n============================================\n"
     },
     "metadata": {},
     "execution_count": 10
    }
   ],
   "cell_type": "code",
   "source": [
    "uc_template = template_unit_commitment(network = CopperPlatePowerModel)"
   ],
   "metadata": {},
   "execution_count": 10
  },
  {
   "cell_type": "markdown",
   "source": [
    "Currently  energy budget data isn't stored in the RTS-GMLC dataset."
   ],
   "metadata": {}
  },
  {
   "outputs": [
    {
     "output_type": "execute_result",
     "data": {
      "text/plain": "MathOptInterface.OptimizerWithAttributes(Cbc.Optimizer, Pair{MathOptInterface.AbstractOptimizerAttribute,Any}[MathOptInterface.RawParameter(\"logLevel\") => 1, MathOptInterface.RawParameter(\"ratioGap\") => 0.5])"
     },
     "metadata": {},
     "execution_count": 11
    }
   ],
   "cell_type": "code",
   "source": [
    "uc_template.devices[:Generators] =\n",
    "    DeviceModel(ThermalStandard, ThermalMultiStartUnitCommitment)\n",
    "\n",
    "solver = optimizer_with_attributes(Cbc.Optimizer, \"logLevel\" => 1, \"ratioGap\" => 0.5)"
   ],
   "metadata": {},
   "execution_count": 11
  },
  {
   "cell_type": "markdown",
   "source": [
    "Now we can build a 4-hour economic dispatch / ACOPF problem with the RTS data."
   ],
   "metadata": {}
  },
  {
   "outputs": [
    {
     "name": "stdout",
     "output_type": "stream",
     "text": [
      "┌ Info: Unit System changed to SYSTEM_BASE\n",
      "└ @ PowerSystems /Users/cbarrows/.julia/packages/PowerSystems/eF3Pv/src/base.jl:282\n",
      "┌ Warning: The data doesn't include devices of type InterruptibleLoad, consider changing the device models\n",
      "└ @ PowerSimulations /Users/cbarrows/.julia/packages/PowerSimulations/0nHyl/src/devices_models/device_constructors/common/constructor_validations.jl:3\n",
      "┌ Warning: No variable cost defined for 201_HYDRO_4\n",
      "└ @ PowerSimulations /Users/cbarrows/.julia/packages/PowerSimulations/0nHyl/src/devices_models/devices/common/cost_functions.jl:337\n",
      "┌ Warning: Data doesn't contain generators with ramp limits, consider adjusting your formulation\n",
      "└ @ PowerSimulations /Users/cbarrows/.julia/packages/PowerSimulations/0nHyl/src/devices_models/devices/thermal_generation.jl:568\n"
     ]
    },
    {
     "output_type": "execute_result",
     "data": {
      "text/plain": "\nOperations Problem Specification\n============================================\n\n  transmission:  PowerSimulations.CopperPlatePowerModel\n============================================\n  devices: \n      ILoads:\n        device_type = InterruptibleLoad\n        formulation = PowerSimulations.InterruptiblePowerLoad\n      HydroROR:\n        device_type = HydroDispatch\n        formulation = PowerSimulations.HydroDispatchRunOfRiver\n      Generators:\n        device_type = ThermalStandard\n        formulation = PowerSimulations.ThermalMultiStartUnitCommitment\n      DistRE:\n        device_type = RenewableFix\n        formulation = PowerSimulations.FixedOutput\n      Hydro:\n        device_type = HydroEnergyReservoir\n        formulation = PowerSimulations.HydroDispatchRunOfRiver\n      Loads:\n        device_type = PowerLoad\n        formulation = PowerSimulations.StaticPowerLoad\n      RE:\n        device_type = RenewableDispatch\n        formulation = PowerSimulations.RenewableFullDispatch\n============================================\n  branches: \n      T:\n        device_type = Transformer2W\n        formulation = PowerSimulations.StaticTransformer\n      TT:\n        device_type = TapTransformer\n        formulation = PowerSimulations.StaticTransformer\n      L:\n        device_type = Line\n        formulation = PowerSimulations.StaticLine\n      DC:\n        device_type = HVDCLine\n        formulation = PowerSimulations.HVDCDispatch\n============================================\n  services: \n      ReserveDown:\n        service_type = VariableReserve{ReserveDown}\n        formulation = PowerSimulations.RangeReserve\n      ReserveUp:\n        service_type = VariableReserve{ReserveUp}\n        formulation = PowerSimulations.RangeReserve\n============================================\n"
     },
     "metadata": {},
     "execution_count": 12
    }
   ],
   "cell_type": "code",
   "source": [
    "problem = OperationsProblem(\n",
    "    EconomicDispatchProblem,\n",
    "    uc_template,\n",
    "    sys,\n",
    "    horizon = 4,\n",
    "    optimizer = solver,\n",
    "    balance_slack_variables = true,\n",
    ")"
   ],
   "metadata": {},
   "execution_count": 12
  },
  {
   "cell_type": "markdown",
   "source": [
    "And solve it ..."
   ],
   "metadata": {}
  },
  {
   "outputs": [
    {
     "name": "stdout",
     "output_type": "stream",
     "text": [
      "Welcome to the CBC MILP Solver \n",
      "Version: 2.10.3 \n",
      "Build Date: Nov  9 2020 \n",
      "\n",
      "command line - Cbc_C_Interface -ratioGap 0.5 -logLevel 1 -solve -quit (default strategy 1)\n",
      "ratioGap was changed from 0 to 0.5\n",
      "Continuous objective value is 1.06275e+06 - 0.82 seconds\n",
      "Cgl0004I processed model has 12871 rows, 26319 columns (5314 integer (5314 of which binary)) and 61661 elements\n",
      "Cbc0045I Trying just fixing integer variables (and fixingish SOS).\n",
      "Cbc0045I Warning: mipstart values could not be used to build a solution.\n",
      "Cbc0031I 204 added rows had average density of 43.161765\n",
      "Cbc0013I At root node, 204 cuts changed objective from 1062747.6 to 1072922.4 in 16 passes\n",
      "Cbc0014I Cut generator 0 (Probing) - 612 row cuts average 2.2 elements, 0 column cuts (0 active)  in 0.222 seconds - new frequency is 1\n",
      "Cbc0014I Cut generator 1 (Gomory) - 148 row cuts average 319.6 elements, 0 column cuts (0 active)  in 0.367 seconds - new frequency is 1\n",
      "Cbc0014I Cut generator 2 (Knapsack) - 0 row cuts average 0.0 elements, 0 column cuts (0 active)  in 0.254 seconds - new frequency is -100\n",
      "Cbc0014I Cut generator 3 (Clique) - 0 row cuts average 0.0 elements, 0 column cuts (0 active)  in 0.003 seconds - new frequency is -100\n",
      "Cbc0014I Cut generator 4 (MixedIntegerRounding2) - 8 row cuts average 68.9 elements, 0 column cuts (0 active)  in 0.069 seconds - new frequency is -100\n",
      "Cbc0014I Cut generator 5 (FlowCover) - 0 row cuts average 0.0 elements, 0 column cuts (0 active)  in 0.226 seconds - new frequency is -100\n",
      "Cbc0014I Cut generator 6 (TwoMirCuts) - 299 row cuts average 54.8 elements, 0 column cuts (0 active)  in 0.269 seconds - new frequency is 1\n",
      "Cbc0010I After 0 nodes, 1 on tree, 1e+50 best solution, best possible 1072922.4 (7.56 seconds)\n",
      "Cbc0010I After 100 nodes, 55 on tree, 1e+50 best solution, best possible 1072922.4 (28.43 seconds)\n",
      "Cbc0010I After 200 nodes, 114 on tree, 1e+50 best solution, best possible 1072922.4 (32.36 seconds)\n",
      "Cbc0010I After 300 nodes, 166 on tree, 1e+50 best solution, best possible 1072922.4 (36.81 seconds)\n",
      "Cbc0010I After 400 nodes, 215 on tree, 1e+50 best solution, best possible 1072922.4 (43.70 seconds)\n",
      "Cbc0010I After 500 nodes, 263 on tree, 1e+50 best solution, best possible 1072922.4 (50.11 seconds)\n",
      "Cbc0010I After 600 nodes, 322 on tree, 1e+50 best solution, best possible 1072922.4 (55.72 seconds)\n",
      "Cbc0010I After 700 nodes, 366 on tree, 1e+50 best solution, best possible 1072922.4 (65.34 seconds)\n",
      "Cbc0010I After 800 nodes, 421 on tree, 1e+50 best solution, best possible 1072922.4 (72.50 seconds)\n",
      "Cbc0010I After 900 nodes, 468 on tree, 1e+50 best solution, best possible 1072922.4 (81.17 seconds)\n",
      "Cbc0010I After 1000 nodes, 521 on tree, 1e+50 best solution, best possible 1072922.4 (89.11 seconds)\n",
      "Cbc0010I After 1100 nodes, 620 on tree, 1e+50 best solution, best possible 1072945.9 (97.01 seconds)\n",
      "Cbc0010I After 1200 nodes, 720 on tree, 1e+50 best solution, best possible 1072945.9 (99.75 seconds)\n",
      "Cbc0004I Integer solution of 1100359.4 found after 104330 iterations and 1290 nodes (102.06 seconds)\n",
      "Cbc0038I Full problem 12871 rows 26319 columns, reduced to 5268 rows 7792 columns\n",
      "Cbc0011I Exiting as integer gap of 27413.469 less than 1e-10 or 50%\n",
      "Cbc0001I Search completed - best objective 1100359.350360161, took 104386 iterations and 1291 nodes (102.39 seconds)\n",
      "Cbc0032I Strong branching done 2448 times (107658 iterations), fathomed 0 nodes and fixed 0 variables\n",
      "Cbc0035I Maximum depth 281, 469 variables fixed on reduced cost\n",
      "Cuts at root node changed objective from 1.06275e+06 to 1.07292e+06\n",
      "Probing was tried 391 times and created 11367 cuts of which 0 were active after adding rounds of cuts (1.252 seconds)\n",
      "Gomory was tried 391 times and created 302 cuts of which 0 were active after adding rounds of cuts (2.531 seconds)\n",
      "Knapsack was tried 16 times and created 0 cuts of which 0 were active after adding rounds of cuts (0.254 seconds)\n",
      "Clique was tried 16 times and created 0 cuts of which 0 were active after adding rounds of cuts (0.003 seconds)\n",
      "MixedIntegerRounding2 was tried 16 times and created 8 cuts of which 0 were active after adding rounds of cuts (0.069 seconds)\n",
      "FlowCover was tried 16 times and created 0 cuts of which 0 were active after adding rounds of cuts (0.226 seconds)\n",
      "TwoMirCuts was tried 391 times and created 301 cuts of which 0 were active after adding rounds of cuts (2.845 seconds)\n",
      "ZeroHalf was tried 1 times and created 0 cuts of which 0 were active after adding rounds of cuts (0.017 seconds)\n",
      "\n",
      "Result - Optimal solution found (within gap tolerance)\n",
      "\n",
      "Objective value:                1100359.35036016\n",
      "Lower bound:                    1072945.881\n",
      "Gap:                            0.03\n",
      "Enumerated nodes:               1291\n",
      "Total iterations:               104386\n",
      "Time (CPU seconds):             103.68\n",
      "Time (Wallclock seconds):       113.44\n",
      "\n",
      "Total time (CPU seconds):       103.68   (Wallclock seconds):       113.44\n",
      "\n"
     ]
    },
    {
     "output_type": "execute_result",
     "data": {
      "text/plain": "\nResults\n========\n\nVariables\n=========\n\nP__ThermalStandard: (4, 76)\nP__RenewableDispatch: (4, 30)\nReg_Down__VariableReserve_ReserveDown: (4, 102)\nP__HydroEnergyReservoir: (4, 19)\nγ⁺__P: (4, 1)\nFlex_Down__VariableReserve_ReserveDown: (4, 102)\nReg_Up__VariableReserve_ReserveUp: (4, 102)\nP__HydroDispatch: (4, 1)\nSpin_Up_R2__VariableReserve_ReserveUp: (4, 25)\nOn__ThermalStandard: (4, 76)\nγ⁻__P: (4, 1)\nstart__ThermalStandard: (4, 76)\nFlex_Up__VariableReserve_ReserveUp: (4, 102)\nstop__ThermalStandard: (4, 76)\nSpin_Up_R1__VariableReserve_ReserveUp: (4, 34)\nSpin_Up_R3__VariableReserve_ReserveUp: (4, 43)\n\n\nOptimizer Log\n-------------\n        timed_solve_time = 0.654710359\n        solve_bytes_alloc = 9914504\n        solve_time = 0.6410949230194092\n        obj_value = 63748.900489295964\n        solver = COIN Branch-and-Cut (Cbc)\n        sec_in_gc = 0.0\n        dual_status = NO_SOLUTION\n        primal_status = FEASIBLE_POINT\n        termination_status = OPTIMAL\n\n\nTotal Cost: OBJECTIVE_FUNCTION = 63748.900489295964\n",
      "text/html": [
       "<h1>Results</h1>\n",
       "<h2>Variables</h2>\n",
       "<p>P__ThermalStandard: (4, 76)</p>\n",
       "<p>P__RenewableDispatch: (4, 30)</p>\n",
       "<p>Reg_Down__VariableReserve_ReserveDown: (4, 102)</p>\n",
       "<p>P__HydroEnergyReservoir: (4, 19)</p>\n",
       "<p>γ⁺__P: (4, 1)</p>\n",
       "<p>Flex_Down__VariableReserve_ReserveDown: (4, 102)</p>\n",
       "<p>Reg_Up__VariableReserve_ReserveUp: (4, 102)</p>\n",
       "<p>P__HydroDispatch: (4, 1)</p>\n",
       "<p>Spin_Up_R2__VariableReserve_ReserveUp: (4, 25)</p>\n",
       "<p>On__ThermalStandard: (4, 76)</p>\n",
       "<p>γ⁻__P: (4, 1)</p>\n",
       "<p>start__ThermalStandard: (4, 76)</p>\n",
       "<p>Flex_Up__VariableReserve_ReserveUp: (4, 102)</p>\n",
       "<p>stop__ThermalStandard: (4, 76)</p>\n",
       "<p>Spin_Up_R1__VariableReserve_ReserveUp: (4, 34)</p>\n",
       "<p>Spin_Up_R3__VariableReserve_ReserveUp: (4, 43)</p>\n",
       "<p><b>Optimizer Log</b></p>\n",
       "<p>        timed_solve_time = 0.654710359</p>\n",
       "<p>        solve_bytes_alloc = 9914504</p>\n",
       "<p>        solve_time = 0.6410949230194092</p>\n",
       "<p>        obj_value = 63748.900489295964</p>\n",
       "<p>        solver = COIN Branch-and-Cut (Cbc)</p>\n",
       "<p>        sec_in_gc = 0.0</p>\n",
       "<p>        dual_status = NO_SOLUTION</p>\n",
       "<p>        primal_status = FEASIBLE_POINT</p>\n",
       "<p>        termination_status = OPTIMAL</p>\n",
       "\n",
       "\n",
       "<p><b>Total Cost: 63748.900489295964<b/></p>\n"
      ]
     },
     "metadata": {},
     "execution_count": 13
    }
   ],
   "cell_type": "code",
   "source": [
    "solve!(problem)"
   ],
   "metadata": {},
   "execution_count": 13
  },
  {
   "cell_type": "markdown",
   "source": [
    "---\n",
    "\n",
    "*This notebook was generated using [Literate.jl](https://github.com/fredrikekre/Literate.jl).*"
   ],
   "metadata": {}
  }
 ],
 "nbformat_minor": 3,
 "metadata": {
  "language_info": {
   "file_extension": ".jl",
   "mimetype": "application/julia",
   "name": "julia",
   "version": "1.5.2"
  },
  "kernelspec": {
   "name": "julia-1.5",
   "display_name": "Julia 1.5.2",
   "language": "julia"
  }
 },
 "nbformat": 4
}
