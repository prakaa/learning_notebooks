{
 "cells": [
  {
   "cell_type": "markdown",
   "source": [
    "# Operations problems with [PowerSimulations.jl](https://github.com/NREL-SIIP/PowerSimulations.jl)"
   ],
   "metadata": {}
  },
  {
   "cell_type": "markdown",
   "source": [
    "**Originally Contributed by**: Clayton Barrows"
   ],
   "metadata": {}
  },
  {
   "cell_type": "markdown",
   "source": [
    "## Introduction"
   ],
   "metadata": {}
  },
  {
   "cell_type": "markdown",
   "source": [
    "PowerSimulations.jl supports the construction and solution of optimal power system\n",
    "scheduling problems (Operations Problems). Operations problems form the fundamental\n",
    "building blocks for [sequential simulations](../../notebook/3_PowerSimulations_examples/sequential_simulations.ipynb).\n",
    "This example shows how to specify and customize a the mathematics that will be applied to the data with\n",
    "an `OperationsProblemTemplate`, build and execute an `OperationsProblem`, and access the results."
   ],
   "metadata": {}
  },
  {
   "cell_type": "markdown",
   "source": [
    "## Dependencies"
   ],
   "metadata": {}
  },
  {
   "outputs": [],
   "cell_type": "code",
   "source": [
    "using SIIPExamples"
   ],
   "metadata": {},
   "execution_count": 1
  },
  {
   "cell_type": "markdown",
   "source": [
    "### Modeling Packages"
   ],
   "metadata": {}
  },
  {
   "outputs": [
    {
     "name": "stdout",
     "output_type": "stream",
     "text": [
      "┌ Info: Precompiling PowerSimulations [e690365d-45e2-57bb-ac84-44ba829e73c4]\n",
      "└ @ Base loading.jl:1278\n"
     ]
    }
   ],
   "cell_type": "code",
   "source": [
    "using PowerSystems\n",
    "using PowerSimulations\n",
    "const PSI = PowerSimulations\n",
    "using D3TypeTrees"
   ],
   "metadata": {},
   "execution_count": 2
  },
  {
   "cell_type": "markdown",
   "source": [
    "### Data management packages"
   ],
   "metadata": {}
  },
  {
   "outputs": [],
   "cell_type": "code",
   "source": [
    "using Dates\n",
    "using DataFrames"
   ],
   "metadata": {},
   "execution_count": 3
  },
  {
   "cell_type": "markdown",
   "source": [
    "### Optimization packages"
   ],
   "metadata": {}
  },
  {
   "outputs": [],
   "cell_type": "code",
   "source": [
    "using Cbc #solver"
   ],
   "metadata": {},
   "execution_count": 4
  },
  {
   "cell_type": "markdown",
   "source": [
    "### Data\n",
    "This data depends upon the [RTS-GMLC](https://github.com/gridmod/rts-gmlc) dataset. Let's\n",
    "download and extract the data."
   ],
   "metadata": {}
  },
  {
   "outputs": [],
   "cell_type": "code",
   "source": [
    "rts_dir = SIIPExamples.download(\"https://github.com/GridMod/RTS-GMLC\")\n",
    "rts_src_dir = joinpath(rts_dir, \"RTS_Data\", \"SourceData\")\n",
    "rts_siip_dir = joinpath(rts_dir, \"RTS_Data\", \"FormattedData\", \"SIIP\");"
   ],
   "metadata": {},
   "execution_count": 5
  },
  {
   "cell_type": "markdown",
   "source": [
    "### Create a `System` from RTS-GMLC data just like we did in the [parsing tabular data example.](../../notebook/2_PowerSystems_examples/parse_tabulardata.jl)"
   ],
   "metadata": {}
  },
  {
   "outputs": [
    {
     "name": "stdout",
     "output_type": "stream",
     "text": [
      "┌ Info: Parsing csv data in branch.csv ...\n",
      "└ @ PowerSystems /Users/cbarrows/.julia/packages/PowerSystems/eF3Pv/src/parsers/power_system_table_data.jl:143\n",
      "┌ Info: Successfully parsed branch.csv\n",
      "└ @ PowerSystems /Users/cbarrows/.julia/packages/PowerSystems/eF3Pv/src/parsers/power_system_table_data.jl:148\n",
      "┌ Info: Parsing csv data in bus.csv ...\n",
      "└ @ PowerSystems /Users/cbarrows/.julia/packages/PowerSystems/eF3Pv/src/parsers/power_system_table_data.jl:143\n",
      "┌ Info: Successfully parsed bus.csv\n",
      "└ @ PowerSystems /Users/cbarrows/.julia/packages/PowerSystems/eF3Pv/src/parsers/power_system_table_data.jl:148\n",
      "┌ Info: Parsing csv data in dc_branch.csv ...\n",
      "└ @ PowerSystems /Users/cbarrows/.julia/packages/PowerSystems/eF3Pv/src/parsers/power_system_table_data.jl:143\n",
      "┌ Info: Successfully parsed dc_branch.csv\n",
      "└ @ PowerSystems /Users/cbarrows/.julia/packages/PowerSystems/eF3Pv/src/parsers/power_system_table_data.jl:148\n",
      "┌ Info: Parsing csv data in gen.csv ...\n",
      "└ @ PowerSystems /Users/cbarrows/.julia/packages/PowerSystems/eF3Pv/src/parsers/power_system_table_data.jl:143\n",
      "┌ Info: Successfully parsed gen.csv\n",
      "└ @ PowerSystems /Users/cbarrows/.julia/packages/PowerSystems/eF3Pv/src/parsers/power_system_table_data.jl:148\n",
      "┌ Info: Parsing csv data in reserves.csv ...\n",
      "└ @ PowerSystems /Users/cbarrows/.julia/packages/PowerSystems/eF3Pv/src/parsers/power_system_table_data.jl:143\n",
      "┌ Info: Successfully parsed reserves.csv\n",
      "└ @ PowerSystems /Users/cbarrows/.julia/packages/PowerSystems/eF3Pv/src/parsers/power_system_table_data.jl:148\n",
      "┌ Info: Parsing csv data in simulation_objects.csv ...\n",
      "└ @ PowerSystems /Users/cbarrows/.julia/packages/PowerSystems/eF3Pv/src/parsers/power_system_table_data.jl:143\n",
      "┌ Info: Successfully parsed simulation_objects.csv\n",
      "└ @ PowerSystems /Users/cbarrows/.julia/packages/PowerSystems/eF3Pv/src/parsers/power_system_table_data.jl:148\n",
      "┌ Info: Parsing csv data in storage.csv ...\n",
      "└ @ PowerSystems /Users/cbarrows/.julia/packages/PowerSystems/eF3Pv/src/parsers/power_system_table_data.jl:143\n",
      "┌ Info: Successfully parsed storage.csv\n",
      "└ @ PowerSystems /Users/cbarrows/.julia/packages/PowerSystems/eF3Pv/src/parsers/power_system_table_data.jl:148\n",
      "┌ Info: Parsing csv data in timeseries_pointers.csv ...\n",
      "└ @ PowerSystems /Users/cbarrows/.julia/packages/PowerSystems/eF3Pv/src/parsers/power_system_table_data.jl:143\n",
      "┌ Info: Successfully parsed timeseries_pointers.csv\n",
      "└ @ PowerSystems /Users/cbarrows/.julia/packages/PowerSystems/eF3Pv/src/parsers/power_system_table_data.jl:148\n",
      "┌ Info: Unit System changed to DEVICE_BASE\n",
      "└ @ PowerSystems /Users/cbarrows/.julia/packages/PowerSystems/eF3Pv/src/base.jl:288\n",
      "┌ Warning: Missing LOAD data.\n",
      "└ @ PowerSystems /Users/cbarrows/.julia/packages/PowerSystems/eF3Pv/src/parsers/power_system_table_data.jl:212\n",
      "┌ Warning: User-defined column name Startup Ramp Rate MW/min is not in dataframe.\n",
      "└ @ PowerSystems /Users/cbarrows/.julia/packages/PowerSystems/eF3Pv/src/parsers/power_system_table_data.jl:1215\n",
      "┌ Warning: User-defined column name Shutdown Ramp Rate MW/min is not in dataframe.\n",
      "└ @ PowerSystems /Users/cbarrows/.julia/packages/PowerSystems/eF3Pv/src/parsers/power_system_table_data.jl:1215\n",
      "┌ Warning: User-defined column name Status at Start is not in dataframe.\n",
      "└ @ PowerSystems /Users/cbarrows/.julia/packages/PowerSystems/eF3Pv/src/parsers/power_system_table_data.jl:1215\n",
      "┌ Warning: User-defined column name Time at Status is not in dataframe.\n",
      "└ @ PowerSystems /Users/cbarrows/.julia/packages/PowerSystems/eF3Pv/src/parsers/power_system_table_data.jl:1215\n",
      "┌ Warning: User-defined column name Start Cost Cold is not in dataframe.\n",
      "└ @ PowerSystems /Users/cbarrows/.julia/packages/PowerSystems/eF3Pv/src/parsers/power_system_table_data.jl:1215\n",
      "┌ Warning: User-defined column name Start Cost Warm is not in dataframe.\n",
      "└ @ PowerSystems /Users/cbarrows/.julia/packages/PowerSystems/eF3Pv/src/parsers/power_system_table_data.jl:1215\n",
      "┌ Warning: User-defined column name Start Cost Hot is not in dataframe.\n",
      "└ @ PowerSystems /Users/cbarrows/.julia/packages/PowerSystems/eF3Pv/src/parsers/power_system_table_data.jl:1215\n",
      "┌ Warning: User-defined column name Must Run is not in dataframe.\n",
      "└ @ PowerSystems /Users/cbarrows/.julia/packages/PowerSystems/eF3Pv/src/parsers/power_system_table_data.jl:1215\n",
      "┌ Warning: Missing LOAD data.\n",
      "└ @ PowerSystems /Users/cbarrows/.julia/packages/PowerSystems/eF3Pv/src/parsers/power_system_table_data.jl:212\n",
      "┌ Info: Adding contributing generators for Spin_Up_R1 by category\n",
      "└ @ PowerSystems /Users/cbarrows/.julia/packages/PowerSystems/eF3Pv/src/parsers/power_system_table_data.jl:656\n",
      "┌ Warning: User-defined column name Startup Ramp Rate MW/min is not in dataframe.\n",
      "└ @ PowerSystems /Users/cbarrows/.julia/packages/PowerSystems/eF3Pv/src/parsers/power_system_table_data.jl:1215\n",
      "┌ Warning: User-defined column name Shutdown Ramp Rate MW/min is not in dataframe.\n",
      "└ @ PowerSystems /Users/cbarrows/.julia/packages/PowerSystems/eF3Pv/src/parsers/power_system_table_data.jl:1215\n",
      "┌ Warning: User-defined column name Status at Start is not in dataframe.\n",
      "└ @ PowerSystems /Users/cbarrows/.julia/packages/PowerSystems/eF3Pv/src/parsers/power_system_table_data.jl:1215\n",
      "┌ Warning: User-defined column name Time at Status is not in dataframe.\n",
      "└ @ PowerSystems /Users/cbarrows/.julia/packages/PowerSystems/eF3Pv/src/parsers/power_system_table_data.jl:1215\n",
      "┌ Warning: User-defined column name Start Cost Cold is not in dataframe.\n",
      "└ @ PowerSystems /Users/cbarrows/.julia/packages/PowerSystems/eF3Pv/src/parsers/power_system_table_data.jl:1215\n",
      "┌ Warning: User-defined column name Start Cost Warm is not in dataframe.\n",
      "└ @ PowerSystems /Users/cbarrows/.julia/packages/PowerSystems/eF3Pv/src/parsers/power_system_table_data.jl:1215\n",
      "┌ Warning: User-defined column name Start Cost Hot is not in dataframe.\n",
      "└ @ PowerSystems /Users/cbarrows/.julia/packages/PowerSystems/eF3Pv/src/parsers/power_system_table_data.jl:1215\n",
      "┌ Warning: User-defined column name Must Run is not in dataframe.\n",
      "└ @ PowerSystems /Users/cbarrows/.julia/packages/PowerSystems/eF3Pv/src/parsers/power_system_table_data.jl:1215\n",
      "┌ Info: Adding contributing generators for Spin_Up_R2 by category\n",
      "└ @ PowerSystems /Users/cbarrows/.julia/packages/PowerSystems/eF3Pv/src/parsers/power_system_table_data.jl:656\n",
      "┌ Warning: User-defined column name Startup Ramp Rate MW/min is not in dataframe.\n",
      "└ @ PowerSystems /Users/cbarrows/.julia/packages/PowerSystems/eF3Pv/src/parsers/power_system_table_data.jl:1215\n",
      "┌ Warning: User-defined column name Shutdown Ramp Rate MW/min is not in dataframe.\n",
      "└ @ PowerSystems /Users/cbarrows/.julia/packages/PowerSystems/eF3Pv/src/parsers/power_system_table_data.jl:1215\n",
      "┌ Warning: User-defined column name Status at Start is not in dataframe.\n",
      "└ @ PowerSystems /Users/cbarrows/.julia/packages/PowerSystems/eF3Pv/src/parsers/power_system_table_data.jl:1215\n",
      "┌ Warning: User-defined column name Time at Status is not in dataframe.\n",
      "└ @ PowerSystems /Users/cbarrows/.julia/packages/PowerSystems/eF3Pv/src/parsers/power_system_table_data.jl:1215\n",
      "┌ Warning: User-defined column name Start Cost Cold is not in dataframe.\n",
      "└ @ PowerSystems /Users/cbarrows/.julia/packages/PowerSystems/eF3Pv/src/parsers/power_system_table_data.jl:1215\n",
      "┌ Warning: User-defined column name Start Cost Warm is not in dataframe.\n",
      "└ @ PowerSystems /Users/cbarrows/.julia/packages/PowerSystems/eF3Pv/src/parsers/power_system_table_data.jl:1215\n",
      "┌ Warning: User-defined column name Start Cost Hot is not in dataframe.\n",
      "└ @ PowerSystems /Users/cbarrows/.julia/packages/PowerSystems/eF3Pv/src/parsers/power_system_table_data.jl:1215\n",
      "┌ Warning: User-defined column name Must Run is not in dataframe.\n",
      "└ @ PowerSystems /Users/cbarrows/.julia/packages/PowerSystems/eF3Pv/src/parsers/power_system_table_data.jl:1215\n",
      "┌ Info: Adding contributing generators for Spin_Up_R3 by category\n",
      "└ @ PowerSystems /Users/cbarrows/.julia/packages/PowerSystems/eF3Pv/src/parsers/power_system_table_data.jl:656\n",
      "┌ Warning: User-defined column name Startup Ramp Rate MW/min is not in dataframe.\n",
      "└ @ PowerSystems /Users/cbarrows/.julia/packages/PowerSystems/eF3Pv/src/parsers/power_system_table_data.jl:1215\n",
      "┌ Warning: User-defined column name Shutdown Ramp Rate MW/min is not in dataframe.\n",
      "└ @ PowerSystems /Users/cbarrows/.julia/packages/PowerSystems/eF3Pv/src/parsers/power_system_table_data.jl:1215\n",
      "┌ Warning: User-defined column name Status at Start is not in dataframe.\n",
      "└ @ PowerSystems /Users/cbarrows/.julia/packages/PowerSystems/eF3Pv/src/parsers/power_system_table_data.jl:1215\n",
      "┌ Warning: User-defined column name Time at Status is not in dataframe.\n",
      "└ @ PowerSystems /Users/cbarrows/.julia/packages/PowerSystems/eF3Pv/src/parsers/power_system_table_data.jl:1215\n",
      "┌ Warning: User-defined column name Start Cost Cold is not in dataframe.\n",
      "└ @ PowerSystems /Users/cbarrows/.julia/packages/PowerSystems/eF3Pv/src/parsers/power_system_table_data.jl:1215\n",
      "┌ Warning: User-defined column name Start Cost Warm is not in dataframe.\n",
      "└ @ PowerSystems /Users/cbarrows/.julia/packages/PowerSystems/eF3Pv/src/parsers/power_system_table_data.jl:1215\n",
      "┌ Warning: User-defined column name Start Cost Hot is not in dataframe.\n",
      "└ @ PowerSystems /Users/cbarrows/.julia/packages/PowerSystems/eF3Pv/src/parsers/power_system_table_data.jl:1215\n",
      "┌ Warning: User-defined column name Must Run is not in dataframe.\n",
      "└ @ PowerSystems /Users/cbarrows/.julia/packages/PowerSystems/eF3Pv/src/parsers/power_system_table_data.jl:1215\n",
      "┌ Info: Adding contributing generators for Flex_Up by category\n",
      "└ @ PowerSystems /Users/cbarrows/.julia/packages/PowerSystems/eF3Pv/src/parsers/power_system_table_data.jl:656\n",
      "┌ Warning: User-defined column name Startup Ramp Rate MW/min is not in dataframe.\n",
      "└ @ PowerSystems /Users/cbarrows/.julia/packages/PowerSystems/eF3Pv/src/parsers/power_system_table_data.jl:1215\n",
      "┌ Warning: User-defined column name Shutdown Ramp Rate MW/min is not in dataframe.\n",
      "└ @ PowerSystems /Users/cbarrows/.julia/packages/PowerSystems/eF3Pv/src/parsers/power_system_table_data.jl:1215\n",
      "┌ Warning: User-defined column name Status at Start is not in dataframe.\n",
      "└ @ PowerSystems /Users/cbarrows/.julia/packages/PowerSystems/eF3Pv/src/parsers/power_system_table_data.jl:1215\n",
      "┌ Warning: User-defined column name Time at Status is not in dataframe.\n",
      "└ @ PowerSystems /Users/cbarrows/.julia/packages/PowerSystems/eF3Pv/src/parsers/power_system_table_data.jl:1215\n",
      "┌ Warning: User-defined column name Start Cost Cold is not in dataframe.\n",
      "└ @ PowerSystems /Users/cbarrows/.julia/packages/PowerSystems/eF3Pv/src/parsers/power_system_table_data.jl:1215\n",
      "┌ Warning: User-defined column name Start Cost Warm is not in dataframe.\n",
      "└ @ PowerSystems /Users/cbarrows/.julia/packages/PowerSystems/eF3Pv/src/parsers/power_system_table_data.jl:1215\n",
      "┌ Warning: User-defined column name Start Cost Hot is not in dataframe.\n",
      "└ @ PowerSystems /Users/cbarrows/.julia/packages/PowerSystems/eF3Pv/src/parsers/power_system_table_data.jl:1215\n",
      "┌ Warning: User-defined column name Must Run is not in dataframe.\n",
      "└ @ PowerSystems /Users/cbarrows/.julia/packages/PowerSystems/eF3Pv/src/parsers/power_system_table_data.jl:1215\n",
      "┌ Info: Adding contributing generators for Flex_Down by category\n",
      "└ @ PowerSystems /Users/cbarrows/.julia/packages/PowerSystems/eF3Pv/src/parsers/power_system_table_data.jl:656\n",
      "┌ Warning: User-defined column name Startup Ramp Rate MW/min is not in dataframe.\n",
      "└ @ PowerSystems /Users/cbarrows/.julia/packages/PowerSystems/eF3Pv/src/parsers/power_system_table_data.jl:1215\n",
      "┌ Warning: User-defined column name Shutdown Ramp Rate MW/min is not in dataframe.\n",
      "└ @ PowerSystems /Users/cbarrows/.julia/packages/PowerSystems/eF3Pv/src/parsers/power_system_table_data.jl:1215\n",
      "┌ Warning: User-defined column name Status at Start is not in dataframe.\n",
      "└ @ PowerSystems /Users/cbarrows/.julia/packages/PowerSystems/eF3Pv/src/parsers/power_system_table_data.jl:1215\n",
      "┌ Warning: User-defined column name Time at Status is not in dataframe.\n",
      "└ @ PowerSystems /Users/cbarrows/.julia/packages/PowerSystems/eF3Pv/src/parsers/power_system_table_data.jl:1215\n",
      "┌ Warning: User-defined column name Start Cost Cold is not in dataframe.\n",
      "└ @ PowerSystems /Users/cbarrows/.julia/packages/PowerSystems/eF3Pv/src/parsers/power_system_table_data.jl:1215\n",
      "┌ Warning: User-defined column name Start Cost Warm is not in dataframe.\n",
      "└ @ PowerSystems /Users/cbarrows/.julia/packages/PowerSystems/eF3Pv/src/parsers/power_system_table_data.jl:1215\n",
      "┌ Warning: User-defined column name Start Cost Hot is not in dataframe.\n",
      "└ @ PowerSystems /Users/cbarrows/.julia/packages/PowerSystems/eF3Pv/src/parsers/power_system_table_data.jl:1215\n",
      "┌ Warning: User-defined column name Must Run is not in dataframe.\n",
      "└ @ PowerSystems /Users/cbarrows/.julia/packages/PowerSystems/eF3Pv/src/parsers/power_system_table_data.jl:1215\n",
      "┌ Info: Adding contributing generators for Reg_Up by category\n",
      "└ @ PowerSystems /Users/cbarrows/.julia/packages/PowerSystems/eF3Pv/src/parsers/power_system_table_data.jl:656\n",
      "┌ Warning: User-defined column name Startup Ramp Rate MW/min is not in dataframe.\n",
      "└ @ PowerSystems /Users/cbarrows/.julia/packages/PowerSystems/eF3Pv/src/parsers/power_system_table_data.jl:1215\n",
      "┌ Warning: User-defined column name Shutdown Ramp Rate MW/min is not in dataframe.\n",
      "└ @ PowerSystems /Users/cbarrows/.julia/packages/PowerSystems/eF3Pv/src/parsers/power_system_table_data.jl:1215\n",
      "┌ Warning: User-defined column name Status at Start is not in dataframe.\n",
      "└ @ PowerSystems /Users/cbarrows/.julia/packages/PowerSystems/eF3Pv/src/parsers/power_system_table_data.jl:1215\n",
      "┌ Warning: User-defined column name Time at Status is not in dataframe.\n",
      "└ @ PowerSystems /Users/cbarrows/.julia/packages/PowerSystems/eF3Pv/src/parsers/power_system_table_data.jl:1215\n",
      "┌ Warning: User-defined column name Start Cost Cold is not in dataframe.\n",
      "└ @ PowerSystems /Users/cbarrows/.julia/packages/PowerSystems/eF3Pv/src/parsers/power_system_table_data.jl:1215\n",
      "┌ Warning: User-defined column name Start Cost Warm is not in dataframe.\n",
      "└ @ PowerSystems /Users/cbarrows/.julia/packages/PowerSystems/eF3Pv/src/parsers/power_system_table_data.jl:1215\n",
      "┌ Warning: User-defined column name Start Cost Hot is not in dataframe.\n",
      "└ @ PowerSystems /Users/cbarrows/.julia/packages/PowerSystems/eF3Pv/src/parsers/power_system_table_data.jl:1215\n",
      "┌ Warning: User-defined column name Must Run is not in dataframe.\n",
      "└ @ PowerSystems /Users/cbarrows/.julia/packages/PowerSystems/eF3Pv/src/parsers/power_system_table_data.jl:1215\n",
      "┌ Info: Adding contributing generators for Reg_Down by category\n",
      "└ @ PowerSystems /Users/cbarrows/.julia/packages/PowerSystems/eF3Pv/src/parsers/power_system_table_data.jl:656\n",
      "┌ Warning: User-defined column name Startup Ramp Rate MW/min is not in dataframe.\n",
      "└ @ PowerSystems /Users/cbarrows/.julia/packages/PowerSystems/eF3Pv/src/parsers/power_system_table_data.jl:1215\n",
      "┌ Warning: User-defined column name Shutdown Ramp Rate MW/min is not in dataframe.\n",
      "└ @ PowerSystems /Users/cbarrows/.julia/packages/PowerSystems/eF3Pv/src/parsers/power_system_table_data.jl:1215\n",
      "┌ Warning: User-defined column name Status at Start is not in dataframe.\n",
      "└ @ PowerSystems /Users/cbarrows/.julia/packages/PowerSystems/eF3Pv/src/parsers/power_system_table_data.jl:1215\n",
      "┌ Warning: User-defined column name Time at Status is not in dataframe.\n",
      "└ @ PowerSystems /Users/cbarrows/.julia/packages/PowerSystems/eF3Pv/src/parsers/power_system_table_data.jl:1215\n",
      "┌ Warning: User-defined column name Start Cost Cold is not in dataframe.\n",
      "└ @ PowerSystems /Users/cbarrows/.julia/packages/PowerSystems/eF3Pv/src/parsers/power_system_table_data.jl:1215\n",
      "┌ Warning: User-defined column name Start Cost Warm is not in dataframe.\n",
      "└ @ PowerSystems /Users/cbarrows/.julia/packages/PowerSystems/eF3Pv/src/parsers/power_system_table_data.jl:1215\n",
      "┌ Warning: User-defined column name Start Cost Hot is not in dataframe.\n",
      "└ @ PowerSystems /Users/cbarrows/.julia/packages/PowerSystems/eF3Pv/src/parsers/power_system_table_data.jl:1215\n",
      "┌ Warning: User-defined column name Must Run is not in dataframe.\n",
      "└ @ PowerSystems /Users/cbarrows/.julia/packages/PowerSystems/eF3Pv/src/parsers/power_system_table_data.jl:1215\n"
     ]
    }
   ],
   "cell_type": "code",
   "source": [
    "rawsys = PowerSystems.PowerSystemTableData(\n",
    "    rts_src_dir,\n",
    "    100.0,\n",
    "    joinpath(rts_siip_dir, \"user_descriptors.yaml\"),\n",
    "    timeseries_metadata_file = joinpath(rts_siip_dir, \"timeseries_pointers.json\"),\n",
    "    generator_mapping_file = joinpath(rts_siip_dir, \"generator_mapping.yaml\"),\n",
    ");\n",
    "sys = System(rawsys; time_series_resolution = Dates.Hour(1));"
   ],
   "metadata": {},
   "execution_count": 6
  },
  {
   "cell_type": "markdown",
   "source": [
    "## Define a problem specification with an `OpModelTemplate`\n",
    "The `DeviceModel` constructor is to create an assignment between PowerSystems device types\n",
    "and the subtypes of `AbstractDeviceFormulation`. PowerSimulations has a variety of different\n",
    "`AbstractDeviceFormulation` subtypes that can be applied to different PowerSystems device types,\n",
    "each dispatching to different methods for populating optimization problem objectives, variables,\n",
    "and constraints."
   ],
   "metadata": {}
  },
  {
   "outputs": [
    {
     "output_type": "execute_result",
     "data": {
      "text/plain": "PowerSimulations\nAbstractDeviceFormulation\n├──PowerSimulations\n│  AbstractThermalFormulation\n│  ├──PowerSimulations\n│  │  AbstractThermalDispatchFormulation\n│  │  ├──PowerSimulations\n│  │  │  ThermalDispatchNoMin (0 children)\n│  │  ├──PowerSimulations\n│  │  │  ThermalRampLimited (0 children)\n│  │  └──PowerSimulations\n│  │     ThermalDispatch (0 children)\n│  └──PowerSimulations\n│     AbstractThermalUnitCommitment\n│     ├──PowerSimulations\n│     │  ThermalStandardUnitCommitment (0 children)\n│     ├──PowerSimulations\n│     │  ThermalBasicUnitCommitment (0 children)\n│     └──PowerSimulations\n│        ThermalMultiStartUnitCommitment (0 children)\n├──PowerSimulations\n│  AbstractBranchFormulation\n│  ├──PowerSimulations\n│  │  FlowMonitoredLine\n│  ├──PowerSimulations\n│  │  AbstractDCLineFormulation\n│  │  ├──PowerSimulations\n│  │  │  HVDCLossless (0 children)\n│  │  ├──PowerSimulations\n│  │  │  HVDCDispatch (0 children)\n│  │  ├──PowerSimulations\n│  │  │  VoltageSourceDC (0 children)\n│  │  └──PowerSimulations\n│  │     HVDCUnbounded (0 children)\n│  ├──PowerSimulations\n│  │  AbstractBoundedBranchFormulation\n│  │  ├──PowerSimulations\n│  │  │  StaticTransformerBounds (0 children)\n│  │  └──PowerSimulations\n│  │     StaticLineBounds (0 children)\n│  ├──PowerSimulations\n│  │  StaticTransformerUnbounded\n│  ├──PowerSimulations\n│  │  StaticLine\n│  ├──PowerSimulations\n│  │  StaticLineUnbounded\n│  └──PowerSimulations\n│     StaticTransformer\n├──PowerSimulations\n│  AbstractLoadFormulation\n│  ├──PowerSimulations\n│  │  AbstractControllablePowerLoadFormulation\n│  │  ├──PowerSimulations\n│  │  │  DispatchablePowerLoad (0 children)\n│  │  └──PowerSimulations\n│  │     InterruptiblePowerLoad (0 children)\n│  └──PowerSimulations\n│     StaticPowerLoad\n├──PowerSimulations\n│  AbstractRenewableFormulation\n│  └──PowerSimulations\n│     AbstractRenewableDispatchFormulation\n│     ├──PowerSimulations\n│     │  RenewableFullDispatch (0 children)\n│     └──PowerSimulations\n│        RenewableConstantPowerFactor (0 children)\n├──PowerSimulations\n│  AbstractRegulationFormulation\n│  ├──PowerSimulations\n│  │  DeviceLimitedRegulation\n│  └──PowerSimulations\n│     ReserveLimitedRegulation\n├──PowerSimulations\n│  AbstractStorageFormulation\n│  ├──PowerSimulations\n│  │  BookKeepingwReservation\n│  └──PowerSimulations\n│     BookKeeping\n├──PowerSimulations\n│  FixedOutput\n└──PowerSimulations\n   AbstractHydroFormulation\n   ├──PowerSimulations\n   │  AbstractHydroDispatchFormulation\n   │  ├──PowerSimulations\n   │  │  HydroDispatchRunOfRiver (0 children)\n   │  └──PowerSimulations\n   │     AbstractHydroReservoirFormulation (4 children)\n   └──PowerSimulations\n      AbstractHydroUnitCommitment\n      ├──PowerSimulations\n      │  HydroCommitmentReservoirStorage (0 children)\n      ├──PowerSimulations\n      │  HydroCommitmentReservoirBudget (0 children)\n      └──PowerSimulations\n         HydroCommitmentRunOfRiver (0 children)\n",
      "text/html": [
       "    <!DOCTYPE html>\n",
       "    <html>\n",
       "    <head>\n",
       "        <meta charset=\"UTF-8\">\n",
       "        <title>Julia D3Tree</title>\n",
       "    </head>\n",
       "    <body>\n",
       "    <div id=\"treevis8cEVxZdq\">\n",
       "    <style>\n",
       "        \n",
       ".node {\n",
       "    cursor: pointer;\n",
       "}\n",
       "\n",
       ".node circle {\n",
       "\t  fill: #fff;\n",
       "\t  stroke: steelblue;\n",
       "\t  stroke-width: 3px;\n",
       "      r: 10;\n",
       "}\n",
       "\n",
       ".node rect {\n",
       "\t  fill: #fff;\n",
       "\t  stroke: steelblue;\n",
       "\t  stroke-width: 3px;\n",
       "      x: -10;\n",
       "      y: -10;\n",
       "      width: 20;\n",
       "      height: 20;\n",
       "}\n",
       "\n",
       ".node path {\n",
       "    fill: #ffffff;\n",
       "    /* stroke: steelblue; */\n",
       "    stroke-width: 2px;\n",
       "}\n",
       ".node text {\n",
       "    font-family: Arial, Helvetica, sans-serif;\n",
       "    font-style: normal;\n",
       "    font-size: 12px;\n",
       "}\n",
       ".link /* path */ {\n",
       "    fill: none;\n",
       "    stroke: #cccccc;\n",
       "    stroke-width: 2px;\n",
       "}\n",
       ".link text {\n",
       "    font-family: Arial, Helvetica, sans-serif;\n",
       "    font-style: normal;\n",
       "    font-size: 12px;\n",
       "}\n",
       ".hover text{\n",
       "    font-family: Arial, Helvetica, sans-serif;\n",
       "    font-style: normal;\n",
       "    font-size: 12px;\n",
       "}\n",
       "\n",
       "/*\n",
       ".svg-container {\n",
       "    display: inline-block;\n",
       "    position: relative;\n",
       "    width: 100%;\n",
       "    padding-bottom: 100%;\n",
       "    vertical-align: top;\n",
       "    overflow: hidden;\n",
       "}\n",
       ".svg-content-responsive {\n",
       "    display: inline-block;\n",
       "    position: absolute;\n",
       "    top: 10px;\n",
       "    left: 0;\n",
       "}\n",
       "*/\n",
       "\n",
       "    </style>\n",
       "    <script>\n",
       "       (function(){\n",
       "        var treeData = {\"children\":[[2,11,25,30,34,37,40,41],[3,7],[4,5,6],[],[],[],[8,9,10],[],[],[],[12,13,18,21,22,23,24],[],[14,15,16,17],[],[],[],[],[19,20],[],[],[],[],[],[],[26,29],[27,28],[],[],[],[31],[32,33],[],[],[35,36],[],[],[38,39],[],[],[],[42,49],[43,44],[],[45,46,47,48],[],[],[],[],[50,51,52],[],[],[]],\"text\":[\"PowerSimulations\\nAbstractDeviceFormulation\",\"PowerSimulations\\nAbstractThermalFormulation\",\"PowerSimulations\\nAbstractThermalDispatchFormulation\",\"PowerSimulations\\nThermalDispatchNoMin\",\"PowerSimulations\\nThermalRampLimited\",\"PowerSimulations\\nThermalDispatch\",\"PowerSimulations\\nAbstractThermalUnitCommitment\",\"PowerSimulations\\nThermalStandardUnitCommitment\",\"PowerSimulations\\nThermalBasicUnitCommitment\",\"PowerSimulations\\nThermalMultiStartUnitCommitment\",\"PowerSimulations\\nAbstractBranchFormulation\",\"PowerSimulations\\nFlowMonitoredLine\",\"PowerSimulations\\nAbstractDCLineFormulation\",\"PowerSimulations\\nHVDCLossless\",\"PowerSimulations\\nHVDCDispatch\",\"PowerSimulations\\nVoltageSourceDC\",\"PowerSimulations\\nHVDCUnbounded\",\"PowerSimulations\\nAbstractBoundedBranchFormulation\",\"PowerSimulations\\nStaticTransformerBounds\",\"PowerSimulations\\nStaticLineBounds\",\"PowerSimulations\\nStaticTransformerUnbounded\",\"PowerSimulations\\nStaticLine\",\"PowerSimulations\\nStaticLineUnbounded\",\"PowerSimulations\\nStaticTransformer\",\"PowerSimulations\\nAbstractLoadFormulation\",\"PowerSimulations\\nAbstractControllablePowerLoadFormulation\",\"PowerSimulations\\nDispatchablePowerLoad\",\"PowerSimulations\\nInterruptiblePowerLoad\",\"PowerSimulations\\nStaticPowerLoad\",\"PowerSimulations\\nAbstractRenewableFormulation\",\"PowerSimulations\\nAbstractRenewableDispatchFormulation\",\"PowerSimulations\\nRenewableFullDispatch\",\"PowerSimulations\\nRenewableConstantPowerFactor\",\"PowerSimulations\\nAbstractRegulationFormulation\",\"PowerSimulations\\nDeviceLimitedRegulation\",\"PowerSimulations\\nReserveLimitedRegulation\",\"PowerSimulations\\nAbstractStorageFormulation\",\"PowerSimulations\\nBookKeepingwReservation\",\"PowerSimulations\\nBookKeeping\",\"PowerSimulations\\nFixedOutput\",\"PowerSimulations\\nAbstractHydroFormulation\",\"PowerSimulations\\nAbstractHydroDispatchFormulation\",\"PowerSimulations\\nHydroDispatchRunOfRiver\",\"PowerSimulations\\nAbstractHydroReservoirFormulation\",\"PowerSimulations\\nHydroDispatchReservoirStorage\",\"PowerSimulations\\nHydroDispatchPumpedStoragewReservation\",\"PowerSimulations\\nHydroDispatchReservoirBudget\",\"PowerSimulations\\nHydroDispatchPumpedStorage\",\"PowerSimulations\\nAbstractHydroUnitCommitment\",\"PowerSimulations\\nHydroCommitmentReservoirStorage\",\"PowerSimulations\\nHydroCommitmentReservoirBudget\",\"PowerSimulations\\nHydroCommitmentRunOfRiver\"],\"tooltip\":[\"Abstract\",\"Abstract\",\"Abstract\",\"\",\"\",\"\",\"Abstract\",\"\",\"\",\"\",\"Abstract\",\"\",\"Abstract\",\"\",\"\",\"\",\"\",\"Abstract\",\"\",\"\",\"\",\"\",\"\",\"\",\"Abstract\",\"Abstract\",\"\",\"\",\"\",\"Abstract\",\"Abstract\",\"\",\"\",\"Abstract\",\"\",\"\",\"Abstract\",\"\",\"\",\"\",\"Abstract\",\"Abstract\",\"\",\"Abstract\",\"\",\"\",\"\",\"\",\"Abstract\",\"\",\"\",\"\"],\"style\":[\"\",\"\",\"\",\"\",\"\",\"\",\"\",\"\",\"\",\"\",\"\",\"\",\"\",\"\",\"\",\"\",\"\",\"\",\"\",\"\",\"\",\"\",\"\",\"\",\"\",\"\",\"\",\"\",\"\",\"\",\"\",\"\",\"\",\"\",\"\",\"\",\"\",\"\",\"\",\"\",\"\",\"\",\"\",\"\",\"\",\"\",\"\",\"\",\"\",\"\",\"\",\"\"],\"link_style\":[\"\",\"\",\"\",\"\",\"\",\"\",\"\",\"\",\"\",\"\",\"\",\"\",\"\",\"\",\"\",\"\",\"\",\"\",\"\",\"\",\"\",\"\",\"\",\"\",\"\",\"\",\"\",\"\",\"\",\"\",\"\",\"\",\"\",\"\",\"\",\"\",\"\",\"\",\"\",\"\",\"\",\"\",\"\",\"\",\"\",\"\",\"\",\"\",\"\",\"\",\"\",\"\"],\"title\":\"Julia D3Tree\",\"options\":{\"tooltip\":[\"Abstract\",\"Abstract\",\"Abstract\",\"\",\"\",\"\",\"Abstract\",\"\",\"\",\"\",\"Abstract\",\"\",\"Abstract\",\"\",\"\",\"\",\"\",\"Abstract\",\"\",\"\",\"\",\"\",\"\",\"\",\"Abstract\",\"Abstract\",\"\",\"\",\"\",\"Abstract\",\"Abstract\",\"\",\"\",\"Abstract\",\"\",\"\",\"Abstract\",\"\",\"\",\"\",\"Abstract\",\"Abstract\",\"\",\"Abstract\",\"\",\"\",\"\",\"\",\"Abstract\",\"\",\"\",\"\"],\"text\":[\"PowerSimulations\\nAbstractDeviceFormulation\",\"PowerSimulations\\nAbstractThermalFormulation\",\"PowerSimulations\\nAbstractThermalDispatchFormulation\",\"PowerSimulations\\nThermalDispatchNoMin\",\"PowerSimulations\\nThermalRampLimited\",\"PowerSimulations\\nThermalDispatch\",\"PowerSimulations\\nAbstractThermalUnitCommitment\",\"PowerSimulations\\nThermalStandardUnitCommitment\",\"PowerSimulations\\nThermalBasicUnitCommitment\",\"PowerSimulations\\nThermalMultiStartUnitCommitment\",\"PowerSimulations\\nAbstractBranchFormulation\",\"PowerSimulations\\nFlowMonitoredLine\",\"PowerSimulations\\nAbstractDCLineFormulation\",\"PowerSimulations\\nHVDCLossless\",\"PowerSimulations\\nHVDCDispatch\",\"PowerSimulations\\nVoltageSourceDC\",\"PowerSimulations\\nHVDCUnbounded\",\"PowerSimulations\\nAbstractBoundedBranchFormulation\",\"PowerSimulations\\nStaticTransformerBounds\",\"PowerSimulations\\nStaticLineBounds\",\"PowerSimulations\\nStaticTransformerUnbounded\",\"PowerSimulations\\nStaticLine\",\"PowerSimulations\\nStaticLineUnbounded\",\"PowerSimulations\\nStaticTransformer\",\"PowerSimulations\\nAbstractLoadFormulation\",\"PowerSimulations\\nAbstractControllablePowerLoadFormulation\",\"PowerSimulations\\nDispatchablePowerLoad\",\"PowerSimulations\\nInterruptiblePowerLoad\",\"PowerSimulations\\nStaticPowerLoad\",\"PowerSimulations\\nAbstractRenewableFormulation\",\"PowerSimulations\\nAbstractRenewableDispatchFormulation\",\"PowerSimulations\\nRenewableFullDispatch\",\"PowerSimulations\\nRenewableConstantPowerFactor\",\"PowerSimulations\\nAbstractRegulationFormulation\",\"PowerSimulations\\nDeviceLimitedRegulation\",\"PowerSimulations\\nReserveLimitedRegulation\",\"PowerSimulations\\nAbstractStorageFormulation\",\"PowerSimulations\\nBookKeepingwReservation\",\"PowerSimulations\\nBookKeeping\",\"PowerSimulations\\nFixedOutput\",\"PowerSimulations\\nAbstractHydroFormulation\",\"PowerSimulations\\nAbstractHydroDispatchFormulation\",\"PowerSimulations\\nHydroDispatchRunOfRiver\",\"PowerSimulations\\nAbstractHydroReservoirFormulation\",\"PowerSimulations\\nHydroDispatchReservoirStorage\",\"PowerSimulations\\nHydroDispatchPumpedStoragewReservation\",\"PowerSimulations\\nHydroDispatchReservoirBudget\",\"PowerSimulations\\nHydroDispatchPumpedStorage\",\"PowerSimulations\\nAbstractHydroUnitCommitment\",\"PowerSimulations\\nHydroCommitmentReservoirStorage\",\"PowerSimulations\\nHydroCommitmentReservoirBudget\",\"PowerSimulations\\nHydroCommitmentRunOfRiver\"],\"init_expand\":1}};\n",
       "        var rootID = 1-1;\n",
       "        var div = \"treevis8cEVxZdq\";\n",
       "        var initExpand = 1\n",
       "        var initDuration = 750\n",
       "        var svgHeight = 600\n",
       "        if (typeof $ === 'undefined') {\n",
       "    loadScript(\"https://code.jquery.com/jquery-3.1.1.min.js\", run);\n",
       "} else {\n",
       "    run();\n",
       "}\n",
       "\n",
       "function run() {\n",
       "    if (typeof d3 === 'undefined') {\n",
       "        loadScript(\"https://d3js.org/d3.v3.js\", showTree);\n",
       "    } else {\n",
       "        showTree();\n",
       "    }\n",
       "}\n",
       "\n",
       "function loadScript(url, callback)\n",
       "{\n",
       "    console.log(\"starting script load...\")\n",
       "    // Adding the script tag to the head as suggested before\n",
       "    var head = document.getElementsByTagName('head')[0];\n",
       "    var script = document.createElement('script');\n",
       "    script.type = 'text/javascript';\n",
       "    script.src = url;\n",
       "\n",
       "    // Then bind the event to the callback function.\n",
       "    // There are several events for cross browser compatibility.\n",
       "    script.onreadystatechange = callback;\n",
       "    script.onload = callback;\n",
       "\n",
       "    // Fire the loading\n",
       "    head.appendChild(script);\n",
       "}\n",
       "\n",
       "function showTree() {\n",
       "        \n",
       "    // var margin = {top: 20, right: 120, bottom: 20, left: 120},\n",
       "    var margin = {top: 20, right: 120, bottom: 80, left: 120},\n",
       "        width = $(\"#\"+div).width() - margin.right - margin.left,\n",
       "        height = svgHeight - margin.top - margin.bottom;\n",
       "        // TODO make height a parameter of TreeVisualizer\n",
       "\n",
       "    var i = 0,\n",
       "        root;\n",
       "\n",
       "    var tree = d3.layout.tree()\n",
       "        .size([width, height]);\n",
       "\n",
       "    var diagonal = d3.svg.diagonal();\n",
       "        //.projection(function(d) { return [d.y, d.x]; });\n",
       "        // uncomment above to make the tree go horizontally\n",
       "\n",
       "    // see http://stackoverflow.com/questions/16265123/resize-svg-when-window-is-resized-in-d3-js\n",
       "    if (d3.select(\"#\"+div+\"_svg\").empty()) {\n",
       "        $(\".d3twarn\").remove();\n",
       "        d3.select(\"#\"+div).append(\"svg\")\n",
       "            .attr(\"id\", div+\"_svg\")\n",
       "            .attr(\"width\", width + margin.right + margin.left)\n",
       "            .attr(\"height\", height + margin.top + margin.bottom);\n",
       "    }\n",
       "\n",
       "    d3.select(\"#\"+div+\"_svg\").selectAll(\"*\").remove();\n",
       "\n",
       "    var svg = d3.select(\"#\"+div+\"_svg\")\n",
       "        .append(\"g\")\n",
       "            .attr(\"transform\", \"translate(\" + margin.left + \",\" + margin.top + \")\");\n",
       "\n",
       "    // console.log(\"tree data:\");\n",
       "    // console.log(treeData[rootID]);\n",
       "    root = createDisplayNode(rootID, initExpand);\n",
       "    root.x0 = width / 2;\n",
       "    root.y0 = 0;\n",
       "\n",
       "    update(root, initDuration);\n",
       "    console.log(\"tree should appear\");\n",
       "\n",
       "    function createDisplayNode(id, expandLevel) {\n",
       "      var dnode = {\"dataID\":id,\n",
       "                   \"children\": null,\n",
       "                   \"_children\":null};\n",
       "      if (expandLevel > 0) {\n",
       "        initializeChildren(dnode, expandLevel);\n",
       "      }\n",
       "      return dnode;\n",
       "    }\n",
       "\n",
       "    function initializeChildren(d, expandLevel) {\n",
       "      // create children\n",
       "      var children = treeData.children[d.dataID];\n",
       "      d.children = [];\n",
       "      if (children) {\n",
       "        for (var i = 0; i < children.length; i++) {\n",
       "          var cid = children[i]-1;\n",
       "          d.children.push(createDisplayNode(cid, expandLevel-1));\n",
       "        }\n",
       "      }\n",
       "    }\n",
       "\n",
       "    /**\n",
       "     * Recursively called to update each node in the tree.\n",
       "     * \n",
       "     * source is a d3 node that has position, etc.\n",
       "    */\n",
       "    function update(source, duration) {\n",
       "\n",
       "      width = $(\"#\"+div).width() - margin.right - margin.left,\n",
       "      height = $(\"#\"+div).height() - margin.top - margin.bottom;\n",
       "\n",
       "      tree.size([width,height]);\n",
       "      d3.select(\"#\"+div).attr(\"width\", width + margin.right + margin.left)\n",
       "            .attr(\"height\", height + margin.top + margin.bottom);\n",
       "      d3.select(\"#\"+div+\"_svg\").attr(\"width\", width + margin.right + margin.left)\n",
       "             .attr(\"height\", height + margin.top + margin.bottom);\n",
       "\n",
       "\n",
       "      // Compute the new tree layout.\n",
       "      var nodes = tree.nodes(root).reverse(),\n",
       "          links = tree.links(nodes);\n",
       "\n",
       "\n",
       "      // Update the nodes…\n",
       "      var node = svg.selectAll(\"g.node\")\n",
       "          .data(nodes, function(d) { return d.id || (d.id = ++i); });\n",
       "\n",
       "      // Enter any new nodes at the parent's previous position.\n",
       "      var nodeEnter = node.enter().append(\"g\")\n",
       "          .attr(\"class\", \"node\")\n",
       "          .attr(\"transform\", function(d) { return \"translate(\" + source.x0 + \",\" + source.y0 + \")\"; })\n",
       "          .on(\"click\", click)\n",
       "\n",
       "      nodeEnter.append(\"circle\")\n",
       "          .attr(\"r\", \"10px\")\n",
       "          .attr(\"style\", function(d) { return treeData.style[d.dataID]; } )\n",
       "\n",
       "      var tbox = nodeEnter.append(\"text\")\n",
       "          .attr(\"y\", 25)\n",
       "          .attr(\"text-anchor\", \"middle\")\n",
       "          //.text( function(d) { return treeData.text[d.dataID]; } )\n",
       "          .style(\"fill-opacity\", 1e-6);\n",
       "\n",
       "      tbox.each( function(d) {\n",
       "          var el = d3.select(this)\n",
       "          var text = treeData.text[d.dataID];\n",
       "          var lines = text.split('\\n');\n",
       "          for (var i = 0; i < lines.length; i++) {\n",
       "              var tspan = el.append(\"tspan\").text(lines[i]);\n",
       "              if (i > 0) {\n",
       "                  tspan.attr(\"x\", 0).attr(\"dy\", \"1.2em\");\n",
       "              }\n",
       "          }\n",
       "      });\n",
       "\n",
       "      //tooltip\n",
       "      nodeEnter.append(\"title\").text( function(d) { return treeData.tooltip[d.dataID];} );\n",
       "\n",
       "      // Transition nodes to their new position.\n",
       "      var nodeUpdate = node.transition()\n",
       "          .duration(duration)\n",
       "          .attr(\"transform\", function(d) { return \"translate(\" + d.x + \",\" + d.y + \")\"; });\n",
       "\n",
       "      nodeUpdate.select(\"text\")\n",
       "          .style(\"fill-opacity\", 1);\n",
       "\n",
       "      // Transition exiting nodes to the parent's new position.\n",
       "      var nodeExit = node.exit().transition()\n",
       "          .duration(duration)\n",
       "          .attr(\"transform\", function(d) { return \"translate(\" + source.x + \",\" + source.y + \")\"; })\n",
       "          .remove();\n",
       "\n",
       "      nodeExit.select(\"text\")\n",
       "          .style(\"fill-opacity\", 1e-6);\n",
       "\n",
       "      // Update the links…\n",
       "      var link = svg.selectAll(\"path.link\")\n",
       "          .data(links, function(d) { return d.target.id; });\n",
       "\n",
       "      // Enter any new links at the parent's previous position.\n",
       "      // XXX link width should be based on transition data, not node data\n",
       "      link.enter().insert(\"path\", \"g\")\n",
       "          .attr(\"class\", \"link\")\n",
       "          .attr(\"style\", function(d) {\n",
       "              var ls = treeData.link_style[d.target.dataID];\n",
       "              return ls;\n",
       "          } )\n",
       "          .attr(\"d\", function(d) {\n",
       "            var o = {x: source.x0, y: source.y0};\n",
       "            return diagonal({source: o, target: o});\n",
       "          });\n",
       "\n",
       "      // Transition links to their new position.\n",
       "      link.transition()\n",
       "          .duration(duration)\n",
       "          .attr(\"d\", diagonal);\n",
       "\n",
       "      // Transition exiting nodes to the parent's new position.\n",
       "      link.exit().transition()\n",
       "          .duration(duration)\n",
       "          .attr(\"d\", function(d) {\n",
       "            var o = {x: source.x, y: source.y};\n",
       "            return diagonal({source: o, target: o});\n",
       "          })\n",
       "          .remove();\n",
       "\n",
       "      // Stash the old positions for transition.\n",
       "      nodes.forEach(function(d) {\n",
       "        d.x0 = d.x;\n",
       "        d.y0 = d.y;\n",
       "      });\n",
       "    }\n",
       "\n",
       "    // Toggle children on click.\n",
       "    function click(d) {\n",
       "      if (d.children) {\n",
       "        d._children = d.children;\n",
       "        d.children = null;\n",
       "      } else if (d._children) {\n",
       "        d.children = d._children;\n",
       "        d._children = null;\n",
       "      } else {\n",
       "        initializeChildren(d, 1);\n",
       "      }\n",
       "      update(d, 750);\n",
       "    }\n",
       "\n",
       "}\n",
       "\n",
       "        })();\n",
       "    </script>\n",
       "    <p class=\"d3twarn\">\n",
       "    Attempting to display the tree. If the tree is large, this may take some time.\n",
       "    </p>\n",
       "    <p class=\"d3twarn\">\n",
       "    Note: D3Trees.jl requires an internet connection. If no tree appears, please check your connection. To help fix this, please see <a href=\"https://github.com/sisl/D3Trees.jl/issues/10\">this issue</a>. You may also diagnose errors with the javascript console (Ctrl-Shift-J in chrome).\n",
       "    </p>\n",
       "    </div>\n",
       "    </body>\n",
       "    </html>\n",
       "\n"
      ]
     },
     "metadata": {},
     "execution_count": 7
    }
   ],
   "cell_type": "code",
   "source": [
    "TypeTree(PSI.AbstractDeviceFormulation, scopesep=\"\\n\")"
   ],
   "metadata": {},
   "execution_count": 7
  },
  {
   "cell_type": "markdown",
   "source": [
    "### Branch Formulations\n",
    "Here is an example of relatively standard branch formulations. Other formulations allow\n",
    "for selective enforcement of transmission limits and greater control on transformer settings."
   ],
   "metadata": {}
  },
  {
   "outputs": [
    {
     "output_type": "execute_result",
     "data": {
      "text/plain": "Dict{Symbol,PowerSimulations.DeviceModel} with 3 entries:\n  :T  => DeviceModel{Transformer2W,StaticTransformer}(Transformer2W, StaticTran…\n  :TT => DeviceModel{TapTransformer,StaticTransformer}(TapTransformer, StaticTr…\n  :L  => DeviceModel{Line,StaticLine}(Line, StaticLine, nothing, PowerSimulatio…"
     },
     "metadata": {},
     "execution_count": 8
    }
   ],
   "cell_type": "code",
   "source": [
    "branches = Dict{Symbol, DeviceModel}(\n",
    "    :L => DeviceModel(Line, StaticLine),\n",
    "    :T => DeviceModel(Transformer2W, StaticTransformer),\n",
    "    :TT => DeviceModel(TapTransformer, StaticTransformer),\n",
    ")"
   ],
   "metadata": {},
   "execution_count": 8
  },
  {
   "cell_type": "markdown",
   "source": [
    "### Injection Device Formulations\n",
    "Here we define dictionary entries for all devices that inject or withdraw power on the\n",
    "network. For each device type, we can define a distinct `AbstractDeviceFormulation`. In\n",
    "this case, we're defining a basic unit commitment model for thermal generators,\n",
    "curtailable renewable generators, and fixed dispatch (net-load reduction) formulations\n",
    "for `HydroFix` and `RenewableFix` devices. Additionally, we've enabled a simple load\n",
    "shedding demand response formulation for `InterruptableLoad` devices."
   ],
   "metadata": {}
  },
  {
   "outputs": [
    {
     "output_type": "execute_result",
     "data": {
      "text/plain": "Dict{Symbol,PowerSimulations.DeviceModel} with 7 entries:\n  :ILoads     => DeviceModel{InterruptibleLoad,InterruptiblePowerLoad}(Interrup…\n  :HydroROR   => DeviceModel{HydroDispatch,FixedOutput}(HydroDispatch, FixedOut…\n  :Generators => DeviceModel{ThermalStandard,ThermalStandardUnitCommitment}(The…\n  :Ren        => DeviceModel{RenewableDispatch,RenewableFullDispatch}(Renewable…\n  :Hydro      => DeviceModel{HydroEnergyReservoir,HydroDispatchRunOfRiver}(Hydr…\n  :Loads      => DeviceModel{PowerLoad,StaticPowerLoad}(PowerLoad, StaticPowerL…\n  :RenFx      => DeviceModel{RenewableFix,FixedOutput}(RenewableFix, FixedOutpu…"
     },
     "metadata": {},
     "execution_count": 9
    }
   ],
   "cell_type": "code",
   "source": [
    "devices = Dict(\n",
    "    :Generators => DeviceModel(ThermalStandard, ThermalStandardUnitCommitment),\n",
    "    :Ren => DeviceModel(RenewableDispatch, RenewableFullDispatch),\n",
    "    :Loads => DeviceModel(PowerLoad, StaticPowerLoad),\n",
    "    :HydroROR => DeviceModel(HydroDispatch, FixedOutput),\n",
    "    :Hydro => DeviceModel(HydroEnergyReservoir, HydroDispatchRunOfRiver),\n",
    "    :RenFx => DeviceModel(RenewableFix, FixedOutput),\n",
    "    :ILoads => DeviceModel(InterruptibleLoad, InterruptiblePowerLoad),\n",
    ")"
   ],
   "metadata": {},
   "execution_count": 9
  },
  {
   "cell_type": "markdown",
   "source": [
    "### Service Formulations\n",
    "We have two `VariableReserve` types, parameterized by their direction. So, similar to\n",
    "creating `DeviceModel`s, we can create `ServiceModel`s. The primary difference being\n",
    "that `DeviceModel` objects define how constraints get created, while `ServiceModel` objects\n",
    "define how constraints get modified."
   ],
   "metadata": {}
  },
  {
   "outputs": [
    {
     "output_type": "execute_result",
     "data": {
      "text/plain": "Dict{Symbol,PowerSimulations.ServiceModel{D,PowerSimulations.RangeReserve} where D<:Service} with 2 entries:\n  :ReserveDown => ServiceModel{VariableReserve{ReserveDown},RangeReserve}(Varia…\n  :ReserveUp   => ServiceModel{VariableReserve{ReserveUp},RangeReserve}(Variabl…"
     },
     "metadata": {},
     "execution_count": 10
    }
   ],
   "cell_type": "code",
   "source": [
    "services = Dict(\n",
    "    :ReserveUp => ServiceModel(VariableReserve{ReserveUp}, RangeReserve),\n",
    "    :ReserveDown => ServiceModel(VariableReserve{ReserveDown}, RangeReserve),\n",
    ")"
   ],
   "metadata": {},
   "execution_count": 10
  },
  {
   "cell_type": "markdown",
   "source": [
    "### Wrap it up into an `OperationsProblemTemplate`"
   ],
   "metadata": {}
  },
  {
   "outputs": [],
   "cell_type": "code",
   "source": [
    "template_uc = OperationsProblemTemplate(CopperPlatePowerModel, devices, branches, services);"
   ],
   "metadata": {},
   "execution_count": 11
  },
  {
   "cell_type": "markdown",
   "source": [
    "## `OperationsProblem`\n",
    "Now that we have a `System` and an `OperationsProblemTemplate`, we can put the two together\n",
    "to create an `OperationsProblem` that we solve."
   ],
   "metadata": {}
  },
  {
   "cell_type": "markdown",
   "source": [
    "### Optimizer\n",
    "It's most convenient to define an optimizer instance upfront and pass it into the\n",
    "`OperationsProblem` constructor. For this example, we can use the free Cbc solver with a\n",
    "relatively relaxed MIP gap (`ratioGap`) setting to improve speed."
   ],
   "metadata": {}
  },
  {
   "outputs": [
    {
     "output_type": "execute_result",
     "data": {
      "text/plain": "MathOptInterface.OptimizerWithAttributes(Cbc.Optimizer, Pair{MathOptInterface.AbstractOptimizerAttribute,Any}[MathOptInterface.RawParameter(\"logLevel\") => 1, MathOptInterface.RawParameter(\"ratioGap\") => 0.5])"
     },
     "metadata": {},
     "execution_count": 12
    }
   ],
   "cell_type": "code",
   "source": [
    "solver = optimizer_with_attributes(Cbc.Optimizer, \"logLevel\" => 1, \"ratioGap\" => 0.5)"
   ],
   "metadata": {},
   "execution_count": 12
  },
  {
   "cell_type": "markdown",
   "source": [
    "### Build an `OperationsProblem`\n",
    "The construction of an `OperationsProblem` essentially applies an `OperationsProblemTemplate`\n",
    "to `System` data to create a JuMP model."
   ],
   "metadata": {}
  },
  {
   "outputs": [
    {
     "name": "stdout",
     "output_type": "stream",
     "text": [
      "┌ Info: Unit System changed to SYSTEM_BASE\n",
      "└ @ PowerSystems /Users/cbarrows/.julia/packages/PowerSystems/eF3Pv/src/base.jl:282\n",
      "┌ Warning: The data doesn't include devices of type InterruptibleLoad, consider changing the device models\n",
      "└ @ PowerSimulations /Users/cbarrows/.julia/packages/PowerSimulations/0nHyl/src/devices_models/device_constructors/common/constructor_validations.jl:3\n",
      "┌ Warning: Data doesn't contain generators with ramp limits, consider adjusting your formulation\n",
      "└ @ PowerSimulations /Users/cbarrows/.julia/packages/PowerSimulations/0nHyl/src/devices_models/devices/thermal_generation.jl:568\n"
     ]
    },
    {
     "output_type": "execute_result",
     "data": {
      "text/plain": "\nOperations Problem Specification\n============================================\n\n  transmission:  PowerSimulations.CopperPlatePowerModel\n============================================\n  devices: \n      ILoads:\n        device_type = InterruptibleLoad\n        formulation = PowerSimulations.InterruptiblePowerLoad\n      HydroROR:\n        device_type = HydroDispatch\n        formulation = PowerSimulations.FixedOutput\n      Generators:\n        device_type = ThermalStandard\n        formulation = PowerSimulations.ThermalStandardUnitCommitment\n      Ren:\n        device_type = RenewableDispatch\n        formulation = PowerSimulations.RenewableFullDispatch\n      Hydro:\n        device_type = HydroEnergyReservoir\n        formulation = PowerSimulations.HydroDispatchRunOfRiver\n      Loads:\n        device_type = PowerLoad\n        formulation = PowerSimulations.StaticPowerLoad\n      RenFx:\n        device_type = RenewableFix\n        formulation = PowerSimulations.FixedOutput\n============================================\n  branches: \n      T:\n        device_type = Transformer2W\n        formulation = PowerSimulations.StaticTransformer\n      TT:\n        device_type = TapTransformer\n        formulation = PowerSimulations.StaticTransformer\n      L:\n        device_type = Line\n        formulation = PowerSimulations.StaticLine\n============================================\n  services: \n      ReserveDown:\n        service_type = VariableReserve{ReserveDown}\n        formulation = PowerSimulations.RangeReserve\n      ReserveUp:\n        service_type = VariableReserve{ReserveUp}\n        formulation = PowerSimulations.RangeReserve\n============================================\n"
     },
     "metadata": {},
     "execution_count": 13
    }
   ],
   "cell_type": "code",
   "source": [
    "horizon = 24;\n",
    "interval = Dates.Hour(24);\n",
    "transform_single_time_series!(sys, horizon, interval)\n",
    "\n",
    "op_problem = OperationsProblem(\n",
    "    GenericOpProblem,\n",
    "    template_uc,\n",
    "    sys;\n",
    "    optimizer = solver,\n",
    "    horizon = horizon,\n",
    ")"
   ],
   "metadata": {},
   "execution_count": 13
  },
  {
   "cell_type": "markdown",
   "source": [
    "The principal component of the `OperationsProblem` is the JuMP model. For small problems,\n",
    "you can inspect it by simply printing it to the screen:\n",
    "```julia\n",
    "op_problem.psi_container.JuMPmodel\n",
    "```\n",
    "\n",
    "For anything of reasonable size, that will be unmanageable. But you can print to a file:\n",
    "```julia\n",
    "f = open(\"testmodel.txt\",\"w\"); print(f,op_problem.psi_container.JuMPmodel); close(f)\n",
    "```\n",
    "\n",
    "In addition to the JuMP model, an `OperationsProblem` keeps track of a bunch of metadata\n",
    "about the problem and some references to pretty names for constraints and variables.\n",
    "All of these details are contained within the `psi_container` field."
   ],
   "metadata": {}
  },
  {
   "outputs": [
    {
     "name": "stdout",
     "output_type": "stream",
     "text": [
      "mutable struct PowerSimulations.PSIContainer\n",
      "    JuMPmodel::Union{Nothing, JuMP.AbstractModel}\n",
      "    time_steps::UnitRange{Int64}\n",
      "    resolution::Dates.TimePeriod\n",
      "    settings::PowerSimulations.PSISettings\n",
      "    settings_copy::PowerSimulations.PSISettings\n",
      "    variables::Dict{Symbol,AbstractArray}\n",
      "    constraints::Dict{Symbol,AbstractArray}\n",
      "    cost_function::JuMP.AbstractJuMPScalar\n",
      "    expressions::Dict{Symbol,JuMP.Containers.DenseAxisArray}\n",
      "    parameters::Union{Nothing, Dict{Symbol,PowerSimulations.ParameterContainer}}\n",
      "    initial_conditions::PowerSimulations.InitialConditions\n",
      "    pm::Union{Nothing, PowerModels.AbstractPowerModel}\n",
      "end\n"
     ]
    }
   ],
   "cell_type": "code",
   "source": [
    "print_struct(typeof(op_problem.psi_container))"
   ],
   "metadata": {},
   "execution_count": 14
  },
  {
   "cell_type": "markdown",
   "source": [
    "### Solve an `OperationsProblem`"
   ],
   "metadata": {}
  },
  {
   "outputs": [],
   "cell_type": "code",
   "source": [
    "res = solve!(op_problem);"
   ],
   "metadata": {},
   "execution_count": 15
  },
  {
   "cell_type": "markdown",
   "source": [
    "## Results Inspection\n",
    "PowerSimulations collects the `OperationsProblem` results into a struct:"
   ],
   "metadata": {}
  },
  {
   "outputs": [
    {
     "name": "stdout",
     "output_type": "stream",
     "text": [
      " struct PowerSimulations.SimulationResults\n",
      "    base_power::Float64\n",
      "    variable_values::Dict{Symbol,DataFrames.DataFrame}\n",
      "    total_cost::Dict\n",
      "    optimizer_log::Dict\n",
      "    time_stamp::DataFrames.DataFrame\n",
      "    dual_values::Dict{Symbol,Any}\n",
      "    results_folder::Union{Nothing, String}\n",
      "    parameter_values::Dict{Symbol,DataFrames.DataFrame}\n",
      "end\n"
     ]
    }
   ],
   "cell_type": "code",
   "source": [
    "print_struct(PSI.SimulationResults)"
   ],
   "metadata": {},
   "execution_count": 16
  },
  {
   "cell_type": "markdown",
   "source": [
    "### Optimizer Log\n",
    "The optimizer summary is included"
   ],
   "metadata": {}
  },
  {
   "outputs": [
    {
     "output_type": "execute_result",
     "data": {
      "text/plain": "Dict{Symbol,Any} with 9 entries:\n  :timed_solve_time   => 24.0671\n  :solve_bytes_alloc  => 2705947743\n  :solve_time         => 4.75878\n  :obj_value          => 1.09024e6\n  :solver             => \"COIN Branch-and-Cut (Cbc)\"\n  :sec_in_gc          => 1.24844\n  :dual_status        => NO_SOLUTION\n  :primal_status      => FEASIBLE_POINT\n  :termination_status => OPTIMAL"
     },
     "metadata": {},
     "execution_count": 17
    }
   ],
   "cell_type": "code",
   "source": [
    "get_optimizer_log(res)"
   ],
   "metadata": {},
   "execution_count": 17
  },
  {
   "cell_type": "markdown",
   "source": [
    "### Total Cost (objective function value)"
   ],
   "metadata": {}
  },
  {
   "outputs": [
    {
     "output_type": "execute_result",
     "data": {
      "text/plain": "Dict{Symbol,Float64} with 1 entry:\n  :OBJECTIVE_FUNCTION => 1.09024e6"
     },
     "metadata": {},
     "execution_count": 18
    }
   ],
   "cell_type": "code",
   "source": [
    "get_total_cost(res)"
   ],
   "metadata": {},
   "execution_count": 18
  },
  {
   "cell_type": "markdown",
   "source": [
    "### Variable Values\n",
    "The solution value data frames for variable in the `op_problem.psi_container.variables`\n",
    "dictionary is stored:"
   ],
   "metadata": {}
  },
  {
   "outputs": [
    {
     "output_type": "execute_result",
     "data": {
      "text/plain": "Dict{Symbol,DataFrames.DataFrame} with 13 entries:\n  :P__ThermalStandard       => \u001b[1m24×76 DataFrame\u001b[0m…\n  :P__RenewableDispatch     => \u001b[1m24×30 DataFrame\u001b[0m…\n  :Reg_Down__VariableReser… => \u001b[1m24×102 DataFrame\u001b[0m…\n  :P__HydroEnergyReservoir  => \u001b[1m24×19 DataFrame\u001b[0m…\n  :Flex_Down__VariableRese… => \u001b[1m24×102 DataFrame\u001b[0m…\n  :Reg_Up__VariableReserve… => \u001b[1m24×102 DataFrame\u001b[0m…\n  :Spin_Up_R2__VariableRes… => \u001b[1m24×25 DataFrame\u001b[0m…\n  :On__ThermalStandard      => \u001b[1m24×76 DataFrame\u001b[0m…\n  :start__ThermalStandard   => \u001b[1m24×76 DataFrame\u001b[0m…\n  :Flex_Up__VariableReserv… => \u001b[1m24×102 DataFrame\u001b[0m…\n  :stop__ThermalStandard    => \u001b[1m24×76 DataFrame\u001b[0m…\n  :Spin_Up_R1__VariableRes… => \u001b[1m24×34 DataFrame\u001b[0m…\n  :Spin_Up_R3__VariableRes… => \u001b[1m24×43 DataFrame\u001b[0m…"
     },
     "metadata": {},
     "execution_count": 19
    }
   ],
   "cell_type": "code",
   "source": [
    "variable_values = get_variables(res)"
   ],
   "metadata": {},
   "execution_count": 19
  },
  {
   "cell_type": "markdown",
   "source": [
    "Note that the time stamps are missing from the dataframes in `variable_values`...\n",
    "\n",
    "The time stamps for each value in the time series used in the `OperationsProblem` is\n",
    "included separately from the variable value results.\n",
    "\n",
    "## Plotting\n",
    "Take a look at the examples in [the plotting folder.](../../notebook/3_PowerSimulations_examples/Plotting)"
   ],
   "metadata": {}
  },
  {
   "cell_type": "markdown",
   "source": [
    "---\n",
    "\n",
    "*This notebook was generated using [Literate.jl](https://github.com/fredrikekre/Literate.jl).*"
   ],
   "metadata": {}
  }
 ],
 "nbformat_minor": 3,
 "metadata": {
  "language_info": {
   "file_extension": ".jl",
   "mimetype": "application/julia",
   "name": "julia",
   "version": "1.5.2"
  },
  "kernelspec": {
   "name": "julia-1.5",
   "display_name": "Julia 1.5.2",
   "language": "julia"
  }
 },
 "nbformat": 4
}
