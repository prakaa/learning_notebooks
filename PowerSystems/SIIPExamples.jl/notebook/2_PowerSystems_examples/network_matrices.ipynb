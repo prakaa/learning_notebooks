{
 "cells": [
  {
   "cell_type": "markdown",
   "source": [
    "# Using PowerSystems to calculate network matrices"
   ],
   "metadata": {}
  },
  {
   "cell_type": "markdown",
   "source": [
    "**Originally Contributed by**: Clayton Barrows"
   ],
   "metadata": {}
  },
  {
   "cell_type": "markdown",
   "source": [
    "## Introduction"
   ],
   "metadata": {}
  },
  {
   "cell_type": "markdown",
   "source": [
    "PowerSystems.jl supports the calculation of several different matrix representations of\n",
    "power system networks. This example demonstrates how to use PowerSystems.jl to calculate:\n",
    " - Y bus\n",
    " - Power transfer distribution factor (PTDF)\n",
    " - Line outage distribution  factor (LODF)"
   ],
   "metadata": {}
  },
  {
   "cell_type": "markdown",
   "source": [
    "### Dependencies\n",
    "Let's use a dataset from the [tabular data parsing example](../../notebook/2_PowerSystems_examples/parse_matpower.ipynb)"
   ],
   "metadata": {}
  },
  {
   "outputs": [
    {
     "name": "stdout",
     "output_type": "stream",
     "text": [
      "Project SIIPExamples v0.0.2\n",
      "Status `~/Documents/repos/SIIPExamples.jl/Project.toml`\n",
      "  [336ed68f] CSV v0.8.0\n",
      "  [9961bab8] Cbc v0.7.1\n",
      "  [41994980] D3TypeTrees v0.1.1\n",
      "  [a93c6f00] DataFrames v0.22.0\n",
      "  [2cd47ed4] InfrastructureSystems v1.0.4\n",
      "  [b6b21f68] Ipopt v0.6.3\n",
      "  [2535ab7d] JSON2 v0.3.2\n",
      "  [98b081ad] Literate v2.7.0\n",
      "  [f0f68f2c] PlotlyJS v0.14.0\n",
      "  [91a5bcdd] Plots v1.7.3\n",
      "  [5f7eddb3] PowerGraphics v0.6.1\n",
      "  [e690365d] PowerSimulations v0.8.0\n",
      "  [398b2ede] PowerSimulationsDynamics v0.3.0 `https://github.com/NREL-SIIP/PowerSimulationsDynamics.jl.git#jd/perturbation_refactor`\n",
      "  [bcd98974] PowerSystems v1.0.2\n",
      "  [c3572dad] Sundials v4.3.0\n",
      "  [9e3dc215] TimeSeries v0.19.1\n",
      "  [f269a46b] TimeZones v1.5.0\n",
      "  [0f1e0344] WebIO v0.8.15\n",
      "  [ade2ca70] Dates\n",
      "  [56ddb016] Logging\n",
      "  [44cfe95a] Pkg\n",
      "  [9a3f8284] Random\n",
      "  [10745b16] Statistics\n",
      "  [8dfed614] Test\n",
      "┌ Info: extending matpower format with data: areas 1x3\n",
      "└ @ PowerSystems /Users/cbarrows/.julia/packages/PowerSystems/eF3Pv/src/parsers/pm_io/matpower.jl:332\n",
      "┌ Info: extending matpower format with data: gen_name 7x4\n",
      "└ @ PowerSystems /Users/cbarrows/.julia/packages/PowerSystems/eF3Pv/src/parsers/pm_io/matpower.jl:332\n",
      "┌ Info: extending matpower format by appending matrix \"gen_name\" in to \"gen\"\n",
      "└ @ PowerSystems /Users/cbarrows/.julia/packages/PowerSystems/eF3Pv/src/parsers/pm_io/matpower.jl:665\n",
      "┌ Info: reversing the orientation of branch 6 (4, 3) to be consistent with other parallel branches\n",
      "└ @ PowerSystems /Users/cbarrows/.julia/packages/PowerSystems/eF3Pv/src/parsers/pm_io/data.jl:1216\n",
      "┌ Info: the voltage setpoint on generator 4 does not match the value at bus 4\n",
      "└ @ PowerSystems /Users/cbarrows/.julia/packages/PowerSystems/eF3Pv/src/parsers/pm_io/data.jl:1679\n",
      "┌ Info: the voltage setpoint on generator 1 does not match the value at bus 1\n",
      "└ @ PowerSystems /Users/cbarrows/.julia/packages/PowerSystems/eF3Pv/src/parsers/pm_io/data.jl:1679\n",
      "┌ Info: the voltage setpoint on generator 5 does not match the value at bus 10\n",
      "└ @ PowerSystems /Users/cbarrows/.julia/packages/PowerSystems/eF3Pv/src/parsers/pm_io/data.jl:1679\n",
      "┌ Info: the voltage setpoint on generator 2 does not match the value at bus 1\n",
      "└ @ PowerSystems /Users/cbarrows/.julia/packages/PowerSystems/eF3Pv/src/parsers/pm_io/data.jl:1679\n",
      "┌ Info: the voltage setpoint on generator 3 does not match the value at bus 3\n",
      "└ @ PowerSystems /Users/cbarrows/.julia/packages/PowerSystems/eF3Pv/src/parsers/pm_io/data.jl:1679\n",
      "┌ Info: removing 1 cost terms from generator 4: [4000.0, 0.0]\n",
      "└ @ PowerSystems /Users/cbarrows/.julia/packages/PowerSystems/eF3Pv/src/parsers/pm_io/data.jl:1860\n",
      "┌ Info: removing 1 cost terms from generator 1: [1400.0, 0.0]\n",
      "└ @ PowerSystems /Users/cbarrows/.julia/packages/PowerSystems/eF3Pv/src/parsers/pm_io/data.jl:1860\n",
      "┌ Info: removing 1 cost terms from generator 5: [1000.0, 0.0]\n",
      "└ @ PowerSystems /Users/cbarrows/.julia/packages/PowerSystems/eF3Pv/src/parsers/pm_io/data.jl:1860\n",
      "┌ Info: removing 1 cost terms from generator 2: [1500.0, 0.0]\n",
      "└ @ PowerSystems /Users/cbarrows/.julia/packages/PowerSystems/eF3Pv/src/parsers/pm_io/data.jl:1860\n",
      "┌ Info: removing 3 cost terms from generator 6: Float64[]\n",
      "└ @ PowerSystems /Users/cbarrows/.julia/packages/PowerSystems/eF3Pv/src/parsers/pm_io/data.jl:1860\n",
      "┌ Info: removing 3 cost terms from generator 7: Float64[]\n",
      "└ @ PowerSystems /Users/cbarrows/.julia/packages/PowerSystems/eF3Pv/src/parsers/pm_io/data.jl:1860\n",
      "┌ Info: removing 1 cost terms from generator 3: [3000.0, 0.0]\n",
      "└ @ PowerSystems /Users/cbarrows/.julia/packages/PowerSystems/eF3Pv/src/parsers/pm_io/data.jl:1860\n",
      "┌ Info: Constructing System from Power Models\n",
      "│   data[\"name\"] = nesta_case5_pjm\n",
      "│   data[\"source_type\"] = matpower\n",
      "└ @ PowerSystems /Users/cbarrows/.julia/packages/PowerSystems/eF3Pv/src/parsers/power_models_data.jl:39\n",
      "┌ Info: Reading bus data\n",
      "└ @ PowerSystems /Users/cbarrows/.julia/packages/PowerSystems/eF3Pv/src/parsers/power_models_data.jl:149\n",
      "┌ Info: Reading generator data\n",
      "└ @ PowerSystems /Users/cbarrows/.julia/packages/PowerSystems/eF3Pv/src/parsers/power_models_data.jl:431\n",
      "┌ Info: Reading branch data\n",
      "└ @ PowerSystems /Users/cbarrows/.julia/packages/PowerSystems/eF3Pv/src/parsers/power_models_data.jl:588\n",
      "┌ Info: Reading branch data\n",
      "└ @ PowerSystems /Users/cbarrows/.julia/packages/PowerSystems/eF3Pv/src/parsers/power_models_data.jl:650\n",
      "┌ Info: Reading DC Line data\n",
      "└ @ PowerSystems /Users/cbarrows/.julia/packages/PowerSystems/eF3Pv/src/parsers/power_models_data.jl:622\n"
     ]
    },
    {
     "output_type": "execute_result",
     "data": {
      "text/plain": "System\n======\nSystem Units Base: SYSTEM_BASE\nBase Power: 100.0\nBase Frequency: 60.0\n\nComponents\n==========\nNum components: 30\n\n\u001b[1m9×3 DataFrame\u001b[0m\n\u001b[1m Row \u001b[0m│\u001b[1m ConcreteType             \u001b[0m\u001b[1m SuperTypes                        \u001b[0m\u001b[1m Count \u001b[0m\n\u001b[1m     \u001b[0m│\u001b[90m String                   \u001b[0m\u001b[90m String                            \u001b[0m\u001b[90m Int64 \u001b[0m\n─────┼────────────────────────────────────────────────────────────────────\n   1 │ Arc                       Topology <: Component <: Infrast…      6\n   2 │ Area                      AggregationTopology <: Topology …      1\n   3 │ Bus                       Topology <: Component <: Infrast…      5\n   4 │ Line                      ACBranch <: Branch <: Device <: …      5\n   5 │ LoadZone                  AggregationTopology <: Topology …      1\n   6 │ PhaseShiftingTransformer  ACBranch <: Branch <: Device <: …      2\n   7 │ PowerLoad                 StaticLoad <: ElectricLoad <: St…      3\n   8 │ RenewableDispatch         RenewableGen <: Generator <: Sta…      2\n   9 │ ThermalStandard           ThermalGen <: Generator <: Stati…      5\n\nTimeSeriesContainer\n===================\nComponents with time series data: 0\nTotal StaticTimeSeries: 0\nTotal Forecasts: 0\n",
      "text/html": [
       "<h1>System</h1>\n",
       "<p><b>Base Power</b>: 100.0</p>\n",
       "<h2>Components</h2>\n",
       "<p><b>Num components</b>: 30</p>\n",
       "<table class=\"data-frame\"><thead><tr><th></th><th>ConcreteType</th><th>SuperTypes</th><th>Count</th></tr><tr><th></th><th>String</th><th>String</th><th>Int64</th></tr></thead><tbody><p>9 rows × 3 columns</p><tr><th>1</th><td>Arc</td><td>Topology &lt;: Component &lt;: InfrastructureSystemsComponent &lt;: InfrastructureSystemsType &lt;: Any</td><td>6</td></tr><tr><th>2</th><td>Area</td><td>AggregationTopology &lt;: Topology &lt;: Component &lt;: InfrastructureSystemsComponent &lt;: InfrastructureSystemsType &lt;: Any</td><td>1</td></tr><tr><th>3</th><td>Bus</td><td>Topology &lt;: Component &lt;: InfrastructureSystemsComponent &lt;: InfrastructureSystemsType &lt;: Any</td><td>5</td></tr><tr><th>4</th><td>Line</td><td>ACBranch &lt;: Branch &lt;: Device &lt;: Component &lt;: InfrastructureSystemsComponent &lt;: InfrastructureSystemsType &lt;: Any</td><td>5</td></tr><tr><th>5</th><td>LoadZone</td><td>AggregationTopology &lt;: Topology &lt;: Component &lt;: InfrastructureSystemsComponent &lt;: InfrastructureSystemsType &lt;: Any</td><td>1</td></tr><tr><th>6</th><td>PhaseShiftingTransformer</td><td>ACBranch &lt;: Branch &lt;: Device &lt;: Component &lt;: InfrastructureSystemsComponent &lt;: InfrastructureSystemsType &lt;: Any</td><td>2</td></tr><tr><th>7</th><td>PowerLoad</td><td>StaticLoad &lt;: ElectricLoad &lt;: StaticInjection &lt;: Device &lt;: Component &lt;: InfrastructureSystemsComponent &lt;: InfrastructureSystemsType &lt;: Any</td><td>3</td></tr><tr><th>8</th><td>RenewableDispatch</td><td>RenewableGen &lt;: Generator &lt;: StaticInjection &lt;: Device &lt;: Component &lt;: InfrastructureSystemsComponent &lt;: InfrastructureSystemsType &lt;: Any</td><td>2</td></tr><tr><th>9</th><td>ThermalStandard</td><td>ThermalGen &lt;: Generator &lt;: StaticInjection &lt;: Device &lt;: Component &lt;: InfrastructureSystemsComponent &lt;: InfrastructureSystemsType &lt;: Any</td><td>5</td></tr></tbody></table>\n",
       "\n",
       "<h2>TimeSeriesContainer</h2>\n",
       "<p><b>Components with time series data</b>: 0</p>\n",
       "<p><b>Total StaticTimeSeries</b>: 0</p>\n",
       "<p><b>Total Forecasts</b>: 0</p>\n",
       "<p><b>Resolution</b>: 0 seconds</p>\n"
      ]
     },
     "metadata": {},
     "execution_count": 1
    }
   ],
   "cell_type": "code",
   "source": [
    "using SIIPExamples\n",
    "pkgpath = dirname(dirname(pathof(SIIPExamples)))\n",
    "include(joinpath(pkgpath, \"test\", \"2_PowerSystems_examples\", \"parse_matpower.jl\"))"
   ],
   "metadata": {},
   "execution_count": 1
  },
  {
   "cell_type": "markdown",
   "source": [
    "### Ybus"
   ],
   "metadata": {}
  },
  {
   "outputs": [
    {
     "name": "stdout",
     "output_type": "stream",
     "text": [
      "┌ Info: The System has no islands\n",
      "└ @ PowerSystems /Users/cbarrows/.julia/packages/PowerSystems/eF3Pv/src/utils/network_calculations/ybus_calculations.jl:137\n"
     ]
    },
    {
     "output_type": "execute_result",
     "data": {
      "text/plain": "PowerNetworkMatrix\n:\n  22.2507-222.484im  -3.52348+35.2348im  …  -15.4703+154.703im\n -3.52348+35.2348im   12.6911-126.898im          0.0+0.0im\n      0.0+0.0im      -9.16758+91.6758im          0.0+0.0im\n  -3.2569+32.569im        0.0+0.0im         -3.33367+33.3367im\n -15.4703+154.703im       0.0+0.0im           18.804-188.021im"
     },
     "metadata": {},
     "execution_count": 2
    }
   ],
   "cell_type": "code",
   "source": [
    "ybus = Ybus(sys)"
   ],
   "metadata": {},
   "execution_count": 2
  },
  {
   "cell_type": "markdown",
   "source": [
    "### PTDF"
   ],
   "metadata": {}
  },
  {
   "outputs": [
    {
     "output_type": "execute_result",
     "data": {
      "text/plain": "PowerNetworkMatrix\n:\n  0.35088   0.0  -0.53404     0.169943   0.100401\n  0.41667   0.0   0.342801    0.201807   0.119226\n  0.23245   0.0   0.19124    -0.37175   -0.219627\n -0.35088   0.0  -0.46596    -0.169943  -0.100401\n  0.23245   0.0   0.19124     0.62825   -0.219627\n  0.116225  0.0   0.0956199   0.314125   0.390186\n  0.116225  0.0   0.0956199   0.314125   0.390186"
     },
     "metadata": {},
     "execution_count": 3
    }
   ],
   "cell_type": "code",
   "source": [
    "ptdf = PTDF(sys)"
   ],
   "metadata": {},
   "execution_count": 3
  },
  {
   "cell_type": "markdown",
   "source": [
    "### LODF"
   ],
   "metadata": {}
  },
  {
   "outputs": [
    {
     "output_type": "execute_result",
     "data": {
      "text/plain": "PowerNetworkMatrix\n:\n -1.0       0.601512   0.457143   1.0       0.457143   0.164642   0.164642\n  0.6419   -1.0        0.542857  -0.6419    0.542857   0.195512   0.195512\n  0.3581    0.398488  -1.0       -0.3581   -1.0       -0.360154  -0.360154\n  1.0      -0.601512  -0.457143  -1.0      -0.457143  -0.164642  -0.164642\n  0.3581    0.398488  -1.0       -0.3581   -1.0       -0.360154  -0.360154\n  0.17905   0.199244  -0.5       -0.17905  -0.5       -1.0        0.639846\n  0.17905   0.199244  -0.5       -0.17905  -0.5        0.639846  -1.0"
     },
     "metadata": {},
     "execution_count": 4
    }
   ],
   "cell_type": "code",
   "source": [
    "lodf = LODF(sys)"
   ],
   "metadata": {},
   "execution_count": 4
  },
  {
   "cell_type": "markdown",
   "source": [
    "### Indexing\n",
    "Note that the axes of these matrices that correspond to buses are indexed by bus number\n",
    "(::Int64) while the branch axes are indexed by branch name (::String). You can access\n",
    "specific elements of the matrices as follows:"
   ],
   "metadata": {}
  },
  {
   "outputs": [
    {
     "output_type": "execute_result",
     "data": {
      "text/plain": "0.39018648100730935"
     },
     "metadata": {},
     "execution_count": 5
    }
   ],
   "cell_type": "code",
   "source": [
    "ptdf[\"bus3-bus4-i_6\", 3]"
   ],
   "metadata": {},
   "execution_count": 5
  },
  {
   "cell_type": "markdown",
   "source": [
    "Additionally, PowerSystems provides accessors to the network matrices that take `Componets`\n",
    "as arguments so that you can pass references to the components themselves rather than the\n",
    "name or number. For example:"
   ],
   "metadata": {}
  },
  {
   "outputs": [
    {
     "output_type": "execute_result",
     "data": {
      "text/plain": "-3.2569046378322044 + 32.56904637832204im"
     },
     "metadata": {},
     "execution_count": 6
    }
   ],
   "cell_type": "code",
   "source": [
    "buses = collect(get_components(Bus, sys))\n",
    "ybus[buses[1], buses[2]]"
   ],
   "metadata": {},
   "execution_count": 6
  },
  {
   "cell_type": "markdown",
   "source": [
    "If you would instead like to index by bus name, something like the following should work:"
   ],
   "metadata": {}
  },
  {
   "outputs": [
    {
     "output_type": "execute_result",
     "data": {
      "text/plain": "0.39018648100730935"
     },
     "metadata": {},
     "execution_count": 7
    }
   ],
   "cell_type": "code",
   "source": [
    "busname2num = get_components(Bus, sys) |> (c -> Dict(zip(get_name.(c), get_number.(c))))\n",
    "ptdf[\"bus3-bus4-i_6\", busname2num[\"bus3\"]]"
   ],
   "metadata": {},
   "execution_count": 7
  },
  {
   "cell_type": "markdown",
   "source": [
    "---\n",
    "\n",
    "*This notebook was generated using [Literate.jl](https://github.com/fredrikekre/Literate.jl).*"
   ],
   "metadata": {}
  }
 ],
 "nbformat_minor": 3,
 "metadata": {
  "language_info": {
   "file_extension": ".jl",
   "mimetype": "application/julia",
   "name": "julia",
   "version": "1.5.2"
  },
  "kernelspec": {
   "name": "julia-1.5",
   "display_name": "Julia 1.5.2",
   "language": "julia"
  }
 },
 "nbformat": 4
}
